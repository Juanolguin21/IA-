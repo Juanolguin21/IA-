{
  "nbformat": 4,
  "nbformat_minor": 0,
  "metadata": {
    "colab": {
      "provenance": [],
      "authorship_tag": "ABX9TyNWb3QurB6F/exh5OauFv7K",
      "include_colab_link": true
    },
    "kernelspec": {
      "name": "python3",
      "display_name": "Python 3"
    },
    "language_info": {
      "name": "python"
    },
    "widgets": {
      "application/vnd.jupyter.widget-state+json": {
        "4a42c05eab624e0f920c89c56c008737": {
          "model_module": "@jupyter-widgets/controls",
          "model_name": "HTMLModel",
          "model_module_version": "1.5.0",
          "state": {
            "_dom_classes": [],
            "_model_module": "@jupyter-widgets/controls",
            "_model_module_version": "1.5.0",
            "_model_name": "HTMLModel",
            "_view_count": null,
            "_view_module": "@jupyter-widgets/controls",
            "_view_module_version": "1.5.0",
            "_view_name": "HTMLView",
            "description": "",
            "description_tooltip": null,
            "layout": "IPY_MODEL_e9076d306678427d88eb5e327b7260b4",
            "placeholder": "​",
            "style": "IPY_MODEL_69a29584f4234486bbbcfeb90b26e156",
            "value": "<h2 style='text-align: center;'>Asistente para Cajeros Automáticos</h2>"
          }
        },
        "e9076d306678427d88eb5e327b7260b4": {
          "model_module": "@jupyter-widgets/base",
          "model_name": "LayoutModel",
          "model_module_version": "1.2.0",
          "state": {
            "_model_module": "@jupyter-widgets/base",
            "_model_module_version": "1.2.0",
            "_model_name": "LayoutModel",
            "_view_count": null,
            "_view_module": "@jupyter-widgets/base",
            "_view_module_version": "1.2.0",
            "_view_name": "LayoutView",
            "align_content": null,
            "align_items": null,
            "align_self": null,
            "border": null,
            "bottom": null,
            "display": null,
            "flex": null,
            "flex_flow": null,
            "grid_area": null,
            "grid_auto_columns": null,
            "grid_auto_flow": null,
            "grid_auto_rows": null,
            "grid_column": null,
            "grid_gap": null,
            "grid_row": null,
            "grid_template_areas": null,
            "grid_template_columns": null,
            "grid_template_rows": null,
            "height": null,
            "justify_content": null,
            "justify_items": null,
            "left": null,
            "margin": null,
            "max_height": null,
            "max_width": null,
            "min_height": null,
            "min_width": null,
            "object_fit": null,
            "object_position": null,
            "order": null,
            "overflow": null,
            "overflow_x": null,
            "overflow_y": null,
            "padding": null,
            "right": null,
            "top": null,
            "visibility": null,
            "width": null
          }
        },
        "69a29584f4234486bbbcfeb90b26e156": {
          "model_module": "@jupyter-widgets/controls",
          "model_name": "DescriptionStyleModel",
          "model_module_version": "1.5.0",
          "state": {
            "_model_module": "@jupyter-widgets/controls",
            "_model_module_version": "1.5.0",
            "_model_name": "DescriptionStyleModel",
            "_view_count": null,
            "_view_module": "@jupyter-widgets/base",
            "_view_module_version": "1.2.0",
            "_view_name": "StyleView",
            "description_width": ""
          }
        },
        "0ff48c2d8f824a72bb8af57bbb77c70b": {
          "model_module": "@jupyter-widgets/controls",
          "model_name": "HTMLModel",
          "model_module_version": "1.5.0",
          "state": {
            "_dom_classes": [],
            "_model_module": "@jupyter-widgets/controls",
            "_model_module_version": "1.5.0",
            "_model_name": "HTMLModel",
            "_view_count": null,
            "_view_module": "@jupyter-widgets/controls",
            "_view_module_version": "1.5.0",
            "_view_name": "HTMLView",
            "description": "",
            "description_tooltip": null,
            "layout": "IPY_MODEL_b20146672d3543499b712489c47b43e6",
            "placeholder": "​",
            "style": "IPY_MODEL_af4c0f9c1aec43e1a24a84e2621ec728",
            "value": "<p style='text-align: center;'>Seleccione una pregunta común o ingrese su pregunta personalizada.</p>"
          }
        },
        "b20146672d3543499b712489c47b43e6": {
          "model_module": "@jupyter-widgets/base",
          "model_name": "LayoutModel",
          "model_module_version": "1.2.0",
          "state": {
            "_model_module": "@jupyter-widgets/base",
            "_model_module_version": "1.2.0",
            "_model_name": "LayoutModel",
            "_view_count": null,
            "_view_module": "@jupyter-widgets/base",
            "_view_module_version": "1.2.0",
            "_view_name": "LayoutView",
            "align_content": null,
            "align_items": null,
            "align_self": null,
            "border": null,
            "bottom": null,
            "display": null,
            "flex": null,
            "flex_flow": null,
            "grid_area": null,
            "grid_auto_columns": null,
            "grid_auto_flow": null,
            "grid_auto_rows": null,
            "grid_column": null,
            "grid_gap": null,
            "grid_row": null,
            "grid_template_areas": null,
            "grid_template_columns": null,
            "grid_template_rows": null,
            "height": null,
            "justify_content": null,
            "justify_items": null,
            "left": null,
            "margin": null,
            "max_height": null,
            "max_width": null,
            "min_height": null,
            "min_width": null,
            "object_fit": null,
            "object_position": null,
            "order": null,
            "overflow": null,
            "overflow_x": null,
            "overflow_y": null,
            "padding": null,
            "right": null,
            "top": null,
            "visibility": null,
            "width": null
          }
        },
        "af4c0f9c1aec43e1a24a84e2621ec728": {
          "model_module": "@jupyter-widgets/controls",
          "model_name": "DescriptionStyleModel",
          "model_module_version": "1.5.0",
          "state": {
            "_model_module": "@jupyter-widgets/controls",
            "_model_module_version": "1.5.0",
            "_model_name": "DescriptionStyleModel",
            "_view_count": null,
            "_view_module": "@jupyter-widgets/base",
            "_view_module_version": "1.2.0",
            "_view_name": "StyleView",
            "description_width": ""
          }
        },
        "0c64b48114cc45a781809ca83e8e481f": {
          "model_module": "@jupyter-widgets/controls",
          "model_name": "HTMLModel",
          "model_module_version": "1.5.0",
          "state": {
            "_dom_classes": [],
            "_model_module": "@jupyter-widgets/controls",
            "_model_module_version": "1.5.0",
            "_model_name": "HTMLModel",
            "_view_count": null,
            "_view_module": "@jupyter-widgets/controls",
            "_view_module_version": "1.5.0",
            "_view_name": "HTMLView",
            "description": "",
            "description_tooltip": null,
            "layout": "IPY_MODEL_86a5f57c0d6a4a6989e601403e00991c",
            "placeholder": "​",
            "style": "IPY_MODEL_9ce8e78fbfbb4590859ed6f74535523e",
            "value": "<h3 style='text-align: center;'>Preguntas Frecuentes</h3>"
          }
        },
        "86a5f57c0d6a4a6989e601403e00991c": {
          "model_module": "@jupyter-widgets/base",
          "model_name": "LayoutModel",
          "model_module_version": "1.2.0",
          "state": {
            "_model_module": "@jupyter-widgets/base",
            "_model_module_version": "1.2.0",
            "_model_name": "LayoutModel",
            "_view_count": null,
            "_view_module": "@jupyter-widgets/base",
            "_view_module_version": "1.2.0",
            "_view_name": "LayoutView",
            "align_content": null,
            "align_items": null,
            "align_self": null,
            "border": null,
            "bottom": null,
            "display": null,
            "flex": null,
            "flex_flow": null,
            "grid_area": null,
            "grid_auto_columns": null,
            "grid_auto_flow": null,
            "grid_auto_rows": null,
            "grid_column": null,
            "grid_gap": null,
            "grid_row": null,
            "grid_template_areas": null,
            "grid_template_columns": null,
            "grid_template_rows": null,
            "height": null,
            "justify_content": null,
            "justify_items": null,
            "left": null,
            "margin": null,
            "max_height": null,
            "max_width": null,
            "min_height": null,
            "min_width": null,
            "object_fit": null,
            "object_position": null,
            "order": null,
            "overflow": null,
            "overflow_x": null,
            "overflow_y": null,
            "padding": null,
            "right": null,
            "top": null,
            "visibility": null,
            "width": null
          }
        },
        "9ce8e78fbfbb4590859ed6f74535523e": {
          "model_module": "@jupyter-widgets/controls",
          "model_name": "DescriptionStyleModel",
          "model_module_version": "1.5.0",
          "state": {
            "_model_module": "@jupyter-widgets/controls",
            "_model_module_version": "1.5.0",
            "_model_name": "DescriptionStyleModel",
            "_view_count": null,
            "_view_module": "@jupyter-widgets/base",
            "_view_module_version": "1.2.0",
            "_view_name": "StyleView",
            "description_width": ""
          }
        },
        "4f020967f2924c85a87976db9730279b": {
          "model_module": "@jupyter-widgets/controls",
          "model_name": "DropdownModel",
          "model_module_version": "1.5.0",
          "state": {
            "_dom_classes": [],
            "_model_module": "@jupyter-widgets/controls",
            "_model_module_version": "1.5.0",
            "_model_name": "DropdownModel",
            "_options_labels": [
              "¿Cómo retirar dinero de un cajero automático?",
              "¿Qué hacer si mi tarjeta queda atrapada en el cajero?",
              "¿Los cajeros automáticos cobran comisión?",
              "¿Cómo consultar mi saldo en un cajero automático?",
              "¿Qué hacer si veo un error en la transacción?",
              "¿Qué hacer si el cajero automático no imprime recibo?",
              "¿Puedo usar cualquier cajero automático con mi tarjeta?",
              "¿Cómo cambiar mi PIN en un cajero automático?",
              "¿Qué hacer si el cajero automático me da una cantidad incorrecta?",
              "¿Es seguro usar un cajero automático?",
              "¿Puedo realizar depósitos en cualquier cajero automático?",
              "¿Cuál es el límite de retiro diario en un cajero automático?",
              "¿Qué hacer si el cajero automático muestra un mensaje de error?",
              "¿Puedo cancelar una transacción en un cajero automático?",
              "¿Qué información necesito para usar un cajero automático?",
              "Pregunta personalizada"
            ],
            "_view_count": null,
            "_view_module": "@jupyter-widgets/controls",
            "_view_module_version": "1.5.0",
            "_view_name": "DropdownView",
            "description": "Seleccione:",
            "description_tooltip": null,
            "disabled": false,
            "index": 12,
            "layout": "IPY_MODEL_070a25f26f564d438806614bcd689072",
            "style": "IPY_MODEL_db1a44a488db4fc6b097b98fdd945e77"
          }
        },
        "070a25f26f564d438806614bcd689072": {
          "model_module": "@jupyter-widgets/base",
          "model_name": "LayoutModel",
          "model_module_version": "1.2.0",
          "state": {
            "_model_module": "@jupyter-widgets/base",
            "_model_module_version": "1.2.0",
            "_model_name": "LayoutModel",
            "_view_count": null,
            "_view_module": "@jupyter-widgets/base",
            "_view_module_version": "1.2.0",
            "_view_name": "LayoutView",
            "align_content": null,
            "align_items": null,
            "align_self": null,
            "border": null,
            "bottom": null,
            "display": null,
            "flex": null,
            "flex_flow": null,
            "grid_area": null,
            "grid_auto_columns": null,
            "grid_auto_flow": null,
            "grid_auto_rows": null,
            "grid_column": null,
            "grid_gap": null,
            "grid_row": null,
            "grid_template_areas": null,
            "grid_template_columns": null,
            "grid_template_rows": null,
            "height": null,
            "justify_content": null,
            "justify_items": null,
            "left": null,
            "margin": null,
            "max_height": null,
            "max_width": null,
            "min_height": null,
            "min_width": null,
            "object_fit": null,
            "object_position": null,
            "order": null,
            "overflow": null,
            "overflow_x": null,
            "overflow_y": null,
            "padding": null,
            "right": null,
            "top": null,
            "visibility": null,
            "width": "70%"
          }
        },
        "db1a44a488db4fc6b097b98fdd945e77": {
          "model_module": "@jupyter-widgets/controls",
          "model_name": "DescriptionStyleModel",
          "model_module_version": "1.5.0",
          "state": {
            "_model_module": "@jupyter-widgets/controls",
            "_model_module_version": "1.5.0",
            "_model_name": "DescriptionStyleModel",
            "_view_count": null,
            "_view_module": "@jupyter-widgets/base",
            "_view_module_version": "1.2.0",
            "_view_name": "StyleView",
            "description_width": ""
          }
        },
        "489a1905988d4f8eb2ef5a117fc6d5e7": {
          "model_module": "@jupyter-widgets/controls",
          "model_name": "ButtonModel",
          "model_module_version": "1.5.0",
          "state": {
            "_dom_classes": [],
            "_model_module": "@jupyter-widgets/controls",
            "_model_module_version": "1.5.0",
            "_model_name": "ButtonModel",
            "_view_count": null,
            "_view_module": "@jupyter-widgets/controls",
            "_view_module_version": "1.5.0",
            "_view_name": "ButtonView",
            "button_style": "",
            "description": "Consultar",
            "disabled": false,
            "icon": "",
            "layout": "IPY_MODEL_492f136e72284bc0b97fd4c58dafa747",
            "style": "IPY_MODEL_c2b9a9b96d1f474785e028c11488f29e",
            "tooltip": ""
          }
        },
        "492f136e72284bc0b97fd4c58dafa747": {
          "model_module": "@jupyter-widgets/base",
          "model_name": "LayoutModel",
          "model_module_version": "1.2.0",
          "state": {
            "_model_module": "@jupyter-widgets/base",
            "_model_module_version": "1.2.0",
            "_model_name": "LayoutModel",
            "_view_count": null,
            "_view_module": "@jupyter-widgets/base",
            "_view_module_version": "1.2.0",
            "_view_name": "LayoutView",
            "align_content": null,
            "align_items": null,
            "align_self": null,
            "border": null,
            "bottom": null,
            "display": null,
            "flex": null,
            "flex_flow": null,
            "grid_area": null,
            "grid_auto_columns": null,
            "grid_auto_flow": null,
            "grid_auto_rows": null,
            "grid_column": null,
            "grid_gap": null,
            "grid_row": null,
            "grid_template_areas": null,
            "grid_template_columns": null,
            "grid_template_rows": null,
            "height": null,
            "justify_content": null,
            "justify_items": null,
            "left": null,
            "margin": null,
            "max_height": null,
            "max_width": null,
            "min_height": null,
            "min_width": null,
            "object_fit": null,
            "object_position": null,
            "order": null,
            "overflow": null,
            "overflow_x": null,
            "overflow_y": null,
            "padding": null,
            "right": null,
            "top": null,
            "visibility": null,
            "width": null
          }
        },
        "c2b9a9b96d1f474785e028c11488f29e": {
          "model_module": "@jupyter-widgets/controls",
          "model_name": "ButtonStyleModel",
          "model_module_version": "1.5.0",
          "state": {
            "_model_module": "@jupyter-widgets/controls",
            "_model_module_version": "1.5.0",
            "_model_name": "ButtonStyleModel",
            "_view_count": null,
            "_view_module": "@jupyter-widgets/base",
            "_view_module_version": "1.2.0",
            "_view_name": "StyleView",
            "button_color": null,
            "font_weight": ""
          }
        },
        "b2389a33ce1447d194a5c74470a2eac6": {
          "model_module": "@jupyter-widgets/controls",
          "model_name": "ButtonModel",
          "model_module_version": "1.5.0",
          "state": {
            "_dom_classes": [],
            "_model_module": "@jupyter-widgets/controls",
            "_model_module_version": "1.5.0",
            "_model_name": "ButtonModel",
            "_view_count": null,
            "_view_module": "@jupyter-widgets/controls",
            "_view_module_version": "1.5.0",
            "_view_name": "ButtonView",
            "button_style": "",
            "description": "Limpiar",
            "disabled": false,
            "icon": "",
            "layout": "IPY_MODEL_bd82ba25aa2b490a9820a1fb5644d1ee",
            "style": "IPY_MODEL_ea78f21efa5242e68a5d30f2235595cb",
            "tooltip": ""
          }
        },
        "bd82ba25aa2b490a9820a1fb5644d1ee": {
          "model_module": "@jupyter-widgets/base",
          "model_name": "LayoutModel",
          "model_module_version": "1.2.0",
          "state": {
            "_model_module": "@jupyter-widgets/base",
            "_model_module_version": "1.2.0",
            "_model_name": "LayoutModel",
            "_view_count": null,
            "_view_module": "@jupyter-widgets/base",
            "_view_module_version": "1.2.0",
            "_view_name": "LayoutView",
            "align_content": null,
            "align_items": null,
            "align_self": null,
            "border": null,
            "bottom": null,
            "display": null,
            "flex": null,
            "flex_flow": null,
            "grid_area": null,
            "grid_auto_columns": null,
            "grid_auto_flow": null,
            "grid_auto_rows": null,
            "grid_column": null,
            "grid_gap": null,
            "grid_row": null,
            "grid_template_areas": null,
            "grid_template_columns": null,
            "grid_template_rows": null,
            "height": null,
            "justify_content": null,
            "justify_items": null,
            "left": null,
            "margin": null,
            "max_height": null,
            "max_width": null,
            "min_height": null,
            "min_width": null,
            "object_fit": null,
            "object_position": null,
            "order": null,
            "overflow": null,
            "overflow_x": null,
            "overflow_y": null,
            "padding": null,
            "right": null,
            "top": null,
            "visibility": null,
            "width": null
          }
        },
        "ea78f21efa5242e68a5d30f2235595cb": {
          "model_module": "@jupyter-widgets/controls",
          "model_name": "ButtonStyleModel",
          "model_module_version": "1.5.0",
          "state": {
            "_model_module": "@jupyter-widgets/controls",
            "_model_module_version": "1.5.0",
            "_model_name": "ButtonStyleModel",
            "_view_count": null,
            "_view_module": "@jupyter-widgets/base",
            "_view_module_version": "1.2.0",
            "_view_name": "StyleView",
            "button_color": null,
            "font_weight": ""
          }
        },
        "cd8670e3f53b4824b57e9575151461c6": {
          "model_module": "@jupyter-widgets/controls",
          "model_name": "TextModel",
          "model_module_version": "1.5.0",
          "state": {
            "_dom_classes": [],
            "_model_module": "@jupyter-widgets/controls",
            "_model_module_version": "1.5.0",
            "_model_name": "TextModel",
            "_view_count": null,
            "_view_module": "@jupyter-widgets/controls",
            "_view_module_version": "1.5.0",
            "_view_name": "TextView",
            "continuous_update": true,
            "description": "Pregunta:",
            "description_tooltip": null,
            "disabled": false,
            "layout": "IPY_MODEL_0f65d7f93b084380a662138f230e076a",
            "placeholder": "Escribe tu pregunta aquí...",
            "style": "IPY_MODEL_e9c6d0a893f9422f9143aed3c5d805e0",
            "value": ""
          }
        },
        "0f65d7f93b084380a662138f230e076a": {
          "model_module": "@jupyter-widgets/base",
          "model_name": "LayoutModel",
          "model_module_version": "1.2.0",
          "state": {
            "_model_module": "@jupyter-widgets/base",
            "_model_module_version": "1.2.0",
            "_model_name": "LayoutModel",
            "_view_count": null,
            "_view_module": "@jupyter-widgets/base",
            "_view_module_version": "1.2.0",
            "_view_name": "LayoutView",
            "align_content": null,
            "align_items": null,
            "align_self": null,
            "border": null,
            "bottom": null,
            "display": null,
            "flex": null,
            "flex_flow": null,
            "grid_area": null,
            "grid_auto_columns": null,
            "grid_auto_flow": null,
            "grid_auto_rows": null,
            "grid_column": null,
            "grid_gap": null,
            "grid_row": null,
            "grid_template_areas": null,
            "grid_template_columns": null,
            "grid_template_rows": null,
            "height": null,
            "justify_content": null,
            "justify_items": null,
            "left": null,
            "margin": null,
            "max_height": null,
            "max_width": null,
            "min_height": null,
            "min_width": null,
            "object_fit": null,
            "object_position": null,
            "order": null,
            "overflow": null,
            "overflow_x": null,
            "overflow_y": null,
            "padding": null,
            "right": null,
            "top": null,
            "visibility": null,
            "width": "100%"
          }
        },
        "e9c6d0a893f9422f9143aed3c5d805e0": {
          "model_module": "@jupyter-widgets/controls",
          "model_name": "DescriptionStyleModel",
          "model_module_version": "1.5.0",
          "state": {
            "_model_module": "@jupyter-widgets/controls",
            "_model_module_version": "1.5.0",
            "_model_name": "DescriptionStyleModel",
            "_view_count": null,
            "_view_module": "@jupyter-widgets/base",
            "_view_module_version": "1.2.0",
            "_view_name": "StyleView",
            "description_width": ""
          }
        }
      }
    }
  },
  "cells": [
    {
      "cell_type": "markdown",
      "metadata": {
        "id": "view-in-github",
        "colab_type": "text"
      },
      "source": [
        "<a href=\"https://colab.research.google.com/github/Juanolguin21/IA-/blob/main/Interfaz_Jubilados.ipynb\" target=\"_parent\"><img src=\"https://colab.research.google.com/assets/colab-badge.svg\" alt=\"Open In Colab\"/></a>"
      ]
    },
    {
      "cell_type": "markdown",
      "source": [
        "# **Trabajo Final: Asistente Virtual para Jubilados en el Uso de Cajeros Automáticos y Resolución de Problemas Bancarios**"
      ],
      "metadata": {
        "id": "hQ9NWibUJNx5"
      }
    },
    {
      "cell_type": "markdown",
      "source": [
        "# **Resumen**\n",
        "\n",
        "El objetivo de este proyecto es desarrollar un sistema que facilite el uso de cajeros automáticos y la resolución de problemas bancarios generales para los jubilados, proporcionando asistencia virtual a través de una interfaz fácil de usar. Utilizaremos la API de OpenAI para GPT-4 para generar instrucciones claras y personalizadas basadas en las necesidades del usuario y para responder a preguntas frecuentes sobre diversos temas bancarios."
      ],
      "metadata": {
        "id": "mH6tXGZvJNlT"
      }
    },
    {
      "cell_type": "markdown",
      "source": [
        "# **Índice Actual**\n",
        "\n",
        "1.\tIntroducción\n",
        "2.\tObjetivos\n",
        "3.\tMetodología\n",
        "4.\tHerramientas y Tecnologías\n",
        "\n",
        "\n"
      ],
      "metadata": {
        "id": "8eD7A8HFJNgO"
      }
    },
    {
      "cell_type": "markdown",
      "source": [
        "# 1. **Introducción**\n",
        "\n",
        "En la actualidad, el acceso a servicios bancarios ha cobrado una importancia vital en la vida cotidiana de las personas. Sin embargo, este acceso puede estar acompañado de desafíos significativos, especialmente para los jubilados, quienes, debido a factores como la falta de familiaridad con la tecnología y posibles limitaciones físicas, pueden enfrentar dificultades al interactuar con cajeros automáticos y otros servicios bancarios digitales. A pesar de la creciente automatización de las operaciones bancarias, muchos jubilados se sienten inseguros o confusos sobre cómo utilizar estas herramientas, lo que puede llevar a una experiencia frustrante y a la exclusión de servicios que deberían ser accesibles para todos.\n",
        "Este proyecto propone el desarrollo de un asistente virtual diseñado específicamente para ayudar a los jubilados en sus interacciones con cajeros automáticos y en la resolución de problemas bancarios generales. Al integrar la tecnología de procesamiento de lenguaje natural mediante la API de OpenAI GPT-4, se espera proporcionar una solución intuitiva y accesible que ofrezca instrucciones claras y respuestas a preguntas frecuentes. La creación de esta herramienta tiene como objetivo no solo facilitar el acceso a los servicios bancarios, sino también empoderar a los jubilados para que gestionen de manera más efectiva sus finanzas y se sientan más seguros al utilizar la tecnología.\n",
        "En resumen, el asistente virtual busca cerrar la brecha digital que enfrentan muchos jubilados, promoviendo un entorno más inclusivo y accesible en el ámbito bancario y, por ende, mejorando su calidad de vida.\n"
      ],
      "metadata": {
        "id": "sZt2QAbwJNZk"
      }
    },
    {
      "cell_type": "markdown",
      "source": [
        "# 2. **Objetivos**\n",
        "\n",
        "•\tProporcionar instrucciones claras y personalizadas sobre cómo utilizar cajeros automáticos.\n",
        "\n",
        "•\tOfrecer asistencia para resolver problemas bancarios comunes (cobros, transferencias, errores en cuentas, etc.).\n",
        "\n",
        "•\tFacilitar un entorno de uso accesible y cómodo para los jubilados a través de una interfaz amigable.\n",
        "\n",
        "•\tBrindar un canal para resolver dudas generales sobre servicios bancarios.\n"
      ],
      "metadata": {
        "id": "4PFsCo7uJNTi"
      }
    },
    {
      "cell_type": "markdown",
      "source": [
        "# 3. **Metodología**\n",
        "\n",
        "•\tRecopilación de Datos: Obtener información sobre las dificultades que enfrentan los jubilados al usar cajeros automáticos y en la gestión de sus cuentas bancarias, así como las preguntas más comunes que surgen.\n",
        "\n",
        "•\tProcesamiento de Texto: Utilizar GROQ para generar respuestas útiles e instrucciones comprensibles sobre el uso del cajero automático y la solución de problemas bancarios.\n",
        "\n",
        "•\tInterfaz de Usuario: Diseñar una interfaz simple donde los usuarios pueden interactuar con el asistente virtual fácilmente, haciendo preguntas y recibiendo respuestas sobre cajeros automáticos y otros aspectos bancarios.\n"
      ],
      "metadata": {
        "id": "NRBy7-JNJNND"
      }
    },
    {
      "cell_type": "markdown",
      "source": [
        "# 4. **Herramientas** y **Tecnologías**\n",
        "\n",
        "\n",
        "•\tAPI de OpenAI GPT-4: Para procesar el lenguaje natural y generar respuestas funcionales.\n",
        "\n",
        "•\tGroqe: IA con api key gratuita a modo de inicio del sistema\n",
        "\n",
        "•\tDeepAI: IA con api key para generacion de imagenes\n",
        "\n",
        "•\tAplicaciones Web o Móviles: Para la creación de una interfaz accesible y fácil de usar.\n",
        "\n",
        "•\tTesting con Usuarios: Sesiones de prueba con jubilados para mejorar la efectividad y usabilidad del sistema.\n",
        "\n"
      ],
      "metadata": {
        "id": "qsMDdoNRJNFG"
      }
    },
    {
      "cell_type": "markdown",
      "source": [
        "# **5.\tImplementación**\n",
        "\n",
        "1.\tJupyter file en colab del repositorio, comienzo de la implementación (Api key en Groq y en Deep AI para las imagenes en preguntas perzoanlizadas)\n"
      ],
      "metadata": {
        "id": "mi91Eh1BJMvt"
      }
    },
    {
      "cell_type": "markdown",
      "source": [
        "\n",
        "\n",
        "\n",
        "\n",
        "\n",
        "."
      ],
      "metadata": {
        "id": "G4-EZCQ7K418"
      }
    },
    {
      "cell_type": "code",
      "source": [
        "pip install openai"
      ],
      "metadata": {
        "id": "BXTz50lYPokZ"
      },
      "execution_count": null,
      "outputs": []
    },
    {
      "cell_type": "code",
      "source": [
        "pip install groq"
      ],
      "metadata": {
        "id": "FMJ0L7F7VMbS"
      },
      "execution_count": null,
      "outputs": []
    },
    {
      "cell_type": "code",
      "execution_count": null,
      "metadata": {
        "id": "9K2GtAeWl75Q",
        "colab": {
          "base_uri": "https://localhost:8080/",
          "height": 598,
          "referenced_widgets": [
            "4a42c05eab624e0f920c89c56c008737",
            "e9076d306678427d88eb5e327b7260b4",
            "69a29584f4234486bbbcfeb90b26e156",
            "0ff48c2d8f824a72bb8af57bbb77c70b",
            "b20146672d3543499b712489c47b43e6",
            "af4c0f9c1aec43e1a24a84e2621ec728",
            "0c64b48114cc45a781809ca83e8e481f",
            "86a5f57c0d6a4a6989e601403e00991c",
            "9ce8e78fbfbb4590859ed6f74535523e",
            "4f020967f2924c85a87976db9730279b",
            "070a25f26f564d438806614bcd689072",
            "db1a44a488db4fc6b097b98fdd945e77",
            "489a1905988d4f8eb2ef5a117fc6d5e7",
            "492f136e72284bc0b97fd4c58dafa747",
            "c2b9a9b96d1f474785e028c11488f29e",
            "b2389a33ce1447d194a5c74470a2eac6",
            "bd82ba25aa2b490a9820a1fb5644d1ee",
            "ea78f21efa5242e68a5d30f2235595cb",
            "cd8670e3f53b4824b57e9575151461c6",
            "0f65d7f93b084380a662138f230e076a",
            "e9c6d0a893f9422f9143aed3c5d805e0"
          ]
        },
        "outputId": "fc589012-0c13-4b9a-eced-6f3fc90ead2a"
      },
      "outputs": [
        {
          "output_type": "display_data",
          "data": {
            "text/plain": [
              "HTML(value=\"<h2 style='text-align: center;'>Asistente para Cajeros Automáticos</h2>\")"
            ],
            "application/vnd.jupyter.widget-view+json": {
              "version_major": 2,
              "version_minor": 0,
              "model_id": "4a42c05eab624e0f920c89c56c008737"
            }
          },
          "metadata": {}
        },
        {
          "output_type": "display_data",
          "data": {
            "text/plain": [
              "HTML(value=\"<p style='text-align: center;'>Seleccione una pregunta común o ingrese su pregunta personalizada.<…"
            ],
            "application/vnd.jupyter.widget-view+json": {
              "version_major": 2,
              "version_minor": 0,
              "model_id": "0ff48c2d8f824a72bb8af57bbb77c70b"
            }
          },
          "metadata": {}
        },
        {
          "output_type": "display_data",
          "data": {
            "text/plain": [
              "HTML(value=\"<h3 style='text-align: center;'>Preguntas Frecuentes</h3>\")"
            ],
            "application/vnd.jupyter.widget-view+json": {
              "version_major": 2,
              "version_minor": 0,
              "model_id": "0c64b48114cc45a781809ca83e8e481f"
            }
          },
          "metadata": {}
        },
        {
          "output_type": "display_data",
          "data": {
            "text/plain": [
              "Dropdown(description='Seleccione:', index=12, layout=Layout(width='70%'), options=('¿Cómo retirar dinero de un…"
            ],
            "application/vnd.jupyter.widget-view+json": {
              "version_major": 2,
              "version_minor": 0,
              "model_id": "4f020967f2924c85a87976db9730279b"
            }
          },
          "metadata": {}
        },
        {
          "output_type": "stream",
          "name": "stdout",
          "text": [
            "Respuesta: No intentes forzar una transacción. Sal del cajero y vuelve a intentarlo con otro cajero o contacta al banco.\n"
          ]
        },
        {
          "output_type": "display_data",
          "data": {
            "text/plain": [
              "<IPython.core.display.HTML object>"
            ],
            "text/html": [
              "\n",
              "    <div style=\"text-align: center; border: 1px solid #ccc; padding: 10px; border-radius: 10px; display: inline-block;\">\n",
              "        <img src=\"https://www.asba-supervision.org/PEF/images/medios-de-pago/cajero-automatico.jpg\" width=\"300\" />\n",
              "    </div>\n",
              "    "
            ]
          },
          "metadata": {}
        },
        {
          "output_type": "display_data",
          "data": {
            "text/plain": [
              "Button(description='Consultar', style=ButtonStyle())"
            ],
            "application/vnd.jupyter.widget-view+json": {
              "version_major": 2,
              "version_minor": 0,
              "model_id": "489a1905988d4f8eb2ef5a117fc6d5e7"
            }
          },
          "metadata": {}
        },
        {
          "output_type": "display_data",
          "data": {
            "text/plain": [
              "Button(description='Limpiar', style=ButtonStyle())"
            ],
            "application/vnd.jupyter.widget-view+json": {
              "version_major": 2,
              "version_minor": 0,
              "model_id": "b2389a33ce1447d194a5c74470a2eac6"
            }
          },
          "metadata": {}
        }
      ],
      "source": [
        "import openai\n",
        "import ipywidgets as widgets\n",
        "from IPython.display import display, clear_output, Image, HTML\n",
        "from groq import Groq\n",
        "\n",
        "\n",
        "cliente = Groq(api_key=\"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\") # usando groq actualmente se puede probar con una API tuya\n",
        "\n",
        "# preguntas frecuentes\n",
        "faq = {\n",
        "    \"¿Cómo retirar dinero de un cajero automático?\": \"Para retirar dinero, inserta tu tarjeta, ingresa tu PIN, selecciona 'Retirar dinero' y sigue las instrucciones en pantalla.\",\n",
        "    \"¿Qué hacer si mi tarjeta queda atrapada en el cajero?\": \"Si tu tarjeta queda atrapada, espera un momento para ver si el cajero la devuelve. Si no, contacta al banco inmediatamente.\",\n",
        "    \"¿Los cajeros automáticos cobran comisión?\": \"Algunos cajeros automáticos pueden cobrar una tarifa por transacción, especialmente si no pertenecen a tu banco.\",\n",
        "    \"¿Cómo consultar mi saldo en un cajero automático?\": \"Inserta tu tarjeta, ingresa tu PIN y selecciona 'Consultar saldo' en el menú principal.\",\n",
        "    \"¿Qué hacer si veo un error en la transacción?\": \"Contacta a tu banco inmediatamente para reportar el problema y solicitar asistencia.\",\n",
        "    \"¿Qué hacer si el cajero automático no imprime recibo?\": \"Asegúrate de que el cajero esté funcionando correctamente. Si no imprime el recibo, verifica tu saldo en el extracto de cuenta y contacta a tu banco si es necesario.\",\n",
        "    \"¿Puedo usar cualquier cajero automático con mi tarjeta?\": \"Generalmente, puedes usar cualquier cajero automático, pero algunos pueden cobrar comisiones si no pertenecen a tu banco.\",\n",
        "    \"¿Cómo cambiar mi PIN en un cajero automático?\": \"Inserta tu tarjeta, ingresa tu PIN actual, luego busca la opción de 'Cambio de PIN' y sigue las instrucciones en pantalla.\",\n",
        "    \"¿Qué hacer si el cajero automático me da una cantidad incorrecta?\": \"Reporta el problema al banco de inmediato y proporciona detalles de la transacción. Mantén cualquier recibo si es posible.\",\n",
        "    \"¿Es seguro usar un cajero automático?\": \"Sí, pero asegúrate de que el lugar sea seguro y de cubrir el teclado al ingresar tu PIN. Evita usar cajeros que parezcan sospechosos.\",\n",
        "    \"¿Puedo realizar depósitos en cualquier cajero automático?\": \"Esto depende de tu banco. Algunos cajeros automáticos permiten depósitos, mientras que otros solo permiten retiros.\",\n",
        "    \"¿Cuál es el límite de retiro diario en un cajero automático?\": \"El límite varía según el banco y el tipo de cuenta que tengas. Generalmente oscila entre $300 y $1,000 por día.\",\n",
        "    \"¿Qué hacer si el cajero automático muestra un mensaje de error?\": \"No intentes forzar una transacción. Sal del cajero y vuelve a intentarlo con otro cajero o contacta al banco.\",\n",
        "    \"¿Puedo cancelar una transacción en un cajero automático?\": \"La mayoría de los cajeros automáticos te permiten cancelar la transacción antes de completarla. Busca la opción en la pantalla.\",\n",
        "    \"¿Qué información necesito para usar un cajero automático?\": \"Necesitas tu tarjeta de débito o crédito y tu PIN. Asegúrate de que la tarjeta sea aceptada por el cajero.\"\n",
        "}\n",
        "# manejar el botón de consulta\n",
        "def consultar_api(pregunta):\n",
        "    response = cliente.chat.completions.create(\n",
        "        model=\"llama3-8b-8192\",\n",
        "        temperature=0.7,\n",
        "        max_tokens=500,\n",
        "        messages=[\n",
        "            {\"role\": \"user\", \"content\": pregunta}\n",
        "        ]\n",
        "    )\n",
        "    return response.choices[0].message.content\n",
        "\n",
        "# función para generar una imagen con IA a partir de la pregunta personalizada unicamente sino mostrará por defecto la establecida\n",
        "def generar_imagen_con_ia(pregunta):\n",
        "    prompt = f\"generar una imagen de esto: {pregunta}\"\n",
        "\n",
        "    response = requests.post(\n",
        "        \"https://api.deepai.org/api/text2img\",\n",
        "        data={'text': prompt},\n",
        "        headers={'api-key': '45f493e1-ea28-4118-a34d-27f1290f2a74'}  # usar tu clave API para generar imagenes yo use Deepai con una clave free\n",
        "    )\n",
        "\n",
        "    return response.json().get('output_url', \"https://www.asba-supervision.org/PEF/images/medios-de-pago/cajero-automatico.jpg\")  # URL por defecto\n",
        "\n",
        "def limpiar(b):\n",
        "    clear_output()\n",
        "    display_interface()\n",
        "\n",
        "# mostrar la interfaz\n",
        "def display_interface():\n",
        "    clear_output()\n",
        "    display(titulo, instrucciones)\n",
        "\n",
        "    # preguntas frecuentes\n",
        "    display(faq_label, faq_selector)\n",
        "\n",
        "    if faq_selector.value == 'Pregunta personalizada':\n",
        "        display(caja_texto)  # cuadro de texto para preguntas personalizadas\n",
        "    else:\n",
        "        caja_texto.value = ''\n",
        "        respuesta_comun = faq[faq_selector.value]\n",
        "        print(\"Respuesta:\", respuesta_comun)\n",
        "\n",
        "        # imagen por defecto para preguntas frecuentes\n",
        "        mostrar_imagen(\"https://www.asba-supervision.org/PEF/images/medios-de-pago/cajero-automatico.jpg\")\n",
        "\n",
        "    display(boton_consultar, boton_limpiar)  # consultar y limpiar\n",
        "\n",
        "# mostrar la imagen centrado\n",
        "def mostrar_imagen(url):\n",
        "    cuadro_centrado = f\"\"\"\n",
        "    <div style=\"text-align: center; border: 1px solid #ccc; padding: 10px; border-radius: 10px; display: inline-block;\">\n",
        "        <img src=\"{url}\" width=\"300\" />\n",
        "    </div>\n",
        "    \"\"\"\n",
        "    display(HTML(cuadro_centrado))\n",
        "\n",
        "# selección de preguntas frecuentes\n",
        "def on_faq_select(change):\n",
        "    clear_output()\n",
        "    display_interface()\n",
        "\n",
        "# títulos e instrucciones\n",
        "titulo = widgets.HTML(\"<h2 style='text-align: center;'>Asistente para Cajeros Automáticos</h2>\")\n",
        "instrucciones = widgets.HTML(\"<p style='text-align: center;'>Seleccione una pregunta común o ingrese su pregunta personalizada.</p>\")\n",
        "faq_label = widgets.HTML(\"<h3 style='text-align: center;'>Preguntas Frecuentes</h3>\")\n",
        "\n",
        "# menú desplegable para preguntas frecuentes\n",
        "options = list(faq.keys()) + ['Pregunta personalizada']\n",
        "faq_selector = widgets.Dropdown(\n",
        "    options=options,\n",
        "    description='Seleccione:',\n",
        "    disabled=False,\n",
        "    layout=widgets.Layout(width='70%')\n",
        ")\n",
        "# preguntas personalizadas\n",
        "caja_texto = widgets.Text(\n",
        "    description='Pregunta:',\n",
        "    placeholder='Escribe tu pregunta aquí...',\n",
        "    layout=widgets.Layout(width='100%')\n",
        ")\n",
        "\n",
        "boton_consultar = widgets.Button(description=\"Consultar\")\n",
        "boton_consultar.on_click(lambda b: procesar_pregunta_personalizada(caja_texto.value))  # procesa la pregunta personalizada\n",
        "\n",
        "boton_limpiar = widgets.Button(description=\"Limpiar\")\n",
        "boton_limpiar.on_click(limpiar)\n",
        "\n",
        "# función para procesar la pregunta personalizada\n",
        "def procesar_pregunta_personalizada(pregunta):\n",
        "    if pregunta.strip():\n",
        "        respuesta = consultar_api(pregunta)  # consultar la API\n",
        "        print(\"Respuesta:\", respuesta)\n",
        "        imagen_generada = generar_imagen_con_ia(pregunta)  # generar imagen para la pregunta personalizada\n",
        "        mostrar_imagen(imagen_generada)\n",
        "    else:\n",
        "        print(\"Por favor, escribe una pregunta en PREGUNTAS PERSONALIZADAS o elige una pregunta por defecto para Orientar tu busqueda en el menu desplegable\")\n",
        "\n",
        "# menú desplegable\n",
        "faq_selector.observe(on_faq_select, names='value')\n",
        "\n",
        "# mostrar la interfaz inicial\n",
        "display_interface()"
      ]
    }
  ]
}