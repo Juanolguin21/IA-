{
  "nbformat": 4,
  "nbformat_minor": 0,
  "metadata": {
    "colab": {
      "provenance": [],
      "authorship_tag": "ABX9TyNsYxH6iy3m42AjsGJw06MQ",
      "include_colab_link": true
    },
    "kernelspec": {
      "name": "python3",
      "display_name": "Python 3"
    },
    "language_info": {
      "name": "python"
    },
    "widgets": {
      "application/vnd.jupyter.widget-state+json": {
        "e2f0e89e94654b4fac5a70f8542f44f6": {
          "model_module": "@jupyter-widgets/controls",
          "model_name": "HTMLModel",
          "model_module_version": "1.5.0",
          "state": {
            "_dom_classes": [],
            "_model_module": "@jupyter-widgets/controls",
            "_model_module_version": "1.5.0",
            "_model_name": "HTMLModel",
            "_view_count": null,
            "_view_module": "@jupyter-widgets/controls",
            "_view_module_version": "1.5.0",
            "_view_name": "HTMLView",
            "description": "",
            "description_tooltip": null,
            "layout": "IPY_MODEL_b01a41f11c4642b790a727285c18ff24",
            "placeholder": "​",
            "style": "IPY_MODEL_19487c7fb32a42ba9dfba1b93b239f96",
            "value": "<h2 style='text-align: center;'>Asistente para Cajeros Automáticos</h2>"
          }
        },
        "b01a41f11c4642b790a727285c18ff24": {
          "model_module": "@jupyter-widgets/base",
          "model_name": "LayoutModel",
          "model_module_version": "1.2.0",
          "state": {
            "_model_module": "@jupyter-widgets/base",
            "_model_module_version": "1.2.0",
            "_model_name": "LayoutModel",
            "_view_count": null,
            "_view_module": "@jupyter-widgets/base",
            "_view_module_version": "1.2.0",
            "_view_name": "LayoutView",
            "align_content": null,
            "align_items": null,
            "align_self": null,
            "border": null,
            "bottom": null,
            "display": null,
            "flex": null,
            "flex_flow": null,
            "grid_area": null,
            "grid_auto_columns": null,
            "grid_auto_flow": null,
            "grid_auto_rows": null,
            "grid_column": null,
            "grid_gap": null,
            "grid_row": null,
            "grid_template_areas": null,
            "grid_template_columns": null,
            "grid_template_rows": null,
            "height": null,
            "justify_content": null,
            "justify_items": null,
            "left": null,
            "margin": null,
            "max_height": null,
            "max_width": null,
            "min_height": null,
            "min_width": null,
            "object_fit": null,
            "object_position": null,
            "order": null,
            "overflow": null,
            "overflow_x": null,
            "overflow_y": null,
            "padding": null,
            "right": null,
            "top": null,
            "visibility": null,
            "width": null
          }
        },
        "19487c7fb32a42ba9dfba1b93b239f96": {
          "model_module": "@jupyter-widgets/controls",
          "model_name": "DescriptionStyleModel",
          "model_module_version": "1.5.0",
          "state": {
            "_model_module": "@jupyter-widgets/controls",
            "_model_module_version": "1.5.0",
            "_model_name": "DescriptionStyleModel",
            "_view_count": null,
            "_view_module": "@jupyter-widgets/base",
            "_view_module_version": "1.2.0",
            "_view_name": "StyleView",
            "description_width": ""
          }
        },
        "ef0fba9ddb7945d6bfc7c6b3d6835c9b": {
          "model_module": "@jupyter-widgets/controls",
          "model_name": "HTMLModel",
          "model_module_version": "1.5.0",
          "state": {
            "_dom_classes": [],
            "_model_module": "@jupyter-widgets/controls",
            "_model_module_version": "1.5.0",
            "_model_name": "HTMLModel",
            "_view_count": null,
            "_view_module": "@jupyter-widgets/controls",
            "_view_module_version": "1.5.0",
            "_view_name": "HTMLView",
            "description": "",
            "description_tooltip": null,
            "layout": "IPY_MODEL_086a8d3ea69941eaa55e7f5411e052cd",
            "placeholder": "​",
            "style": "IPY_MODEL_fd031767e9444872a167f75605b2346d",
            "value": "<p style='text-align: center;'>Seleccione una pregunta común o ingrese su pregunta personalizada.</p>"
          }
        },
        "086a8d3ea69941eaa55e7f5411e052cd": {
          "model_module": "@jupyter-widgets/base",
          "model_name": "LayoutModel",
          "model_module_version": "1.2.0",
          "state": {
            "_model_module": "@jupyter-widgets/base",
            "_model_module_version": "1.2.0",
            "_model_name": "LayoutModel",
            "_view_count": null,
            "_view_module": "@jupyter-widgets/base",
            "_view_module_version": "1.2.0",
            "_view_name": "LayoutView",
            "align_content": null,
            "align_items": null,
            "align_self": null,
            "border": null,
            "bottom": null,
            "display": null,
            "flex": null,
            "flex_flow": null,
            "grid_area": null,
            "grid_auto_columns": null,
            "grid_auto_flow": null,
            "grid_auto_rows": null,
            "grid_column": null,
            "grid_gap": null,
            "grid_row": null,
            "grid_template_areas": null,
            "grid_template_columns": null,
            "grid_template_rows": null,
            "height": null,
            "justify_content": null,
            "justify_items": null,
            "left": null,
            "margin": null,
            "max_height": null,
            "max_width": null,
            "min_height": null,
            "min_width": null,
            "object_fit": null,
            "object_position": null,
            "order": null,
            "overflow": null,
            "overflow_x": null,
            "overflow_y": null,
            "padding": null,
            "right": null,
            "top": null,
            "visibility": null,
            "width": null
          }
        },
        "fd031767e9444872a167f75605b2346d": {
          "model_module": "@jupyter-widgets/controls",
          "model_name": "DescriptionStyleModel",
          "model_module_version": "1.5.0",
          "state": {
            "_model_module": "@jupyter-widgets/controls",
            "_model_module_version": "1.5.0",
            "_model_name": "DescriptionStyleModel",
            "_view_count": null,
            "_view_module": "@jupyter-widgets/base",
            "_view_module_version": "1.2.0",
            "_view_name": "StyleView",
            "description_width": ""
          }
        },
        "f90b9157bbf34628bcd616275a6ac2b6": {
          "model_module": "@jupyter-widgets/controls",
          "model_name": "HTMLModel",
          "model_module_version": "1.5.0",
          "state": {
            "_dom_classes": [],
            "_model_module": "@jupyter-widgets/controls",
            "_model_module_version": "1.5.0",
            "_model_name": "HTMLModel",
            "_view_count": null,
            "_view_module": "@jupyter-widgets/controls",
            "_view_module_version": "1.5.0",
            "_view_name": "HTMLView",
            "description": "",
            "description_tooltip": null,
            "layout": "IPY_MODEL_edc11d784bde4efe9e57e1a7afebbdc5",
            "placeholder": "​",
            "style": "IPY_MODEL_1279e94d2248405bbd6d5538c0cd21ea",
            "value": "<h3 style='text-align: center;'>Preguntas Frecuentes</h3>"
          }
        },
        "edc11d784bde4efe9e57e1a7afebbdc5": {
          "model_module": "@jupyter-widgets/base",
          "model_name": "LayoutModel",
          "model_module_version": "1.2.0",
          "state": {
            "_model_module": "@jupyter-widgets/base",
            "_model_module_version": "1.2.0",
            "_model_name": "LayoutModel",
            "_view_count": null,
            "_view_module": "@jupyter-widgets/base",
            "_view_module_version": "1.2.0",
            "_view_name": "LayoutView",
            "align_content": null,
            "align_items": null,
            "align_self": null,
            "border": null,
            "bottom": null,
            "display": null,
            "flex": null,
            "flex_flow": null,
            "grid_area": null,
            "grid_auto_columns": null,
            "grid_auto_flow": null,
            "grid_auto_rows": null,
            "grid_column": null,
            "grid_gap": null,
            "grid_row": null,
            "grid_template_areas": null,
            "grid_template_columns": null,
            "grid_template_rows": null,
            "height": null,
            "justify_content": null,
            "justify_items": null,
            "left": null,
            "margin": null,
            "max_height": null,
            "max_width": null,
            "min_height": null,
            "min_width": null,
            "object_fit": null,
            "object_position": null,
            "order": null,
            "overflow": null,
            "overflow_x": null,
            "overflow_y": null,
            "padding": null,
            "right": null,
            "top": null,
            "visibility": null,
            "width": null
          }
        },
        "1279e94d2248405bbd6d5538c0cd21ea": {
          "model_module": "@jupyter-widgets/controls",
          "model_name": "DescriptionStyleModel",
          "model_module_version": "1.5.0",
          "state": {
            "_model_module": "@jupyter-widgets/controls",
            "_model_module_version": "1.5.0",
            "_model_name": "DescriptionStyleModel",
            "_view_count": null,
            "_view_module": "@jupyter-widgets/base",
            "_view_module_version": "1.2.0",
            "_view_name": "StyleView",
            "description_width": ""
          }
        },
        "21a4d27a67e14e14ae2b96e887b75212": {
          "model_module": "@jupyter-widgets/controls",
          "model_name": "DropdownModel",
          "model_module_version": "1.5.0",
          "state": {
            "_dom_classes": [],
            "_model_module": "@jupyter-widgets/controls",
            "_model_module_version": "1.5.0",
            "_model_name": "DropdownModel",
            "_options_labels": [
              "¿Cómo retirar dinero de un cajero automático?",
              "¿Qué hacer si mi tarjeta queda atrapada en el cajero?",
              "¿Los cajeros automáticos cobran comisión?",
              "¿Cómo consultar mi saldo en un cajero automático?",
              "¿Qué hacer si veo un error en la transacción?",
              "¿Qué hacer si el cajero automático no imprime recibo?",
              "¿Puedo usar cualquier cajero automático con mi tarjeta?",
              "¿Cómo cambiar mi PIN en un cajero automático?",
              "¿Qué hacer si el cajero automático me da una cantidad incorrecta?",
              "¿Es seguro usar un cajero automático?",
              "¿Puedo realizar depósitos en cualquier cajero automático?",
              "¿Cuál es el límite de retiro diario en un cajero automático?",
              "¿Qué hacer si el cajero automático muestra un mensaje de error?",
              "¿Puedo cancelar una transacción en un cajero automático?",
              "¿Qué información necesito para usar un cajero automático?",
              "Pregunta personalizada"
            ],
            "_view_count": null,
            "_view_module": "@jupyter-widgets/controls",
            "_view_module_version": "1.5.0",
            "_view_name": "DropdownView",
            "description": "Seleccione:",
            "description_tooltip": null,
            "disabled": false,
            "index": 0,
            "layout": "IPY_MODEL_8acfd2a8729240ddb4e6392eeba1dc39",
            "style": "IPY_MODEL_849b03979f814b688c4cefc0f5ebe223"
          }
        },
        "8acfd2a8729240ddb4e6392eeba1dc39": {
          "model_module": "@jupyter-widgets/base",
          "model_name": "LayoutModel",
          "model_module_version": "1.2.0",
          "state": {
            "_model_module": "@jupyter-widgets/base",
            "_model_module_version": "1.2.0",
            "_model_name": "LayoutModel",
            "_view_count": null,
            "_view_module": "@jupyter-widgets/base",
            "_view_module_version": "1.2.0",
            "_view_name": "LayoutView",
            "align_content": null,
            "align_items": null,
            "align_self": null,
            "border": null,
            "bottom": null,
            "display": null,
            "flex": null,
            "flex_flow": null,
            "grid_area": null,
            "grid_auto_columns": null,
            "grid_auto_flow": null,
            "grid_auto_rows": null,
            "grid_column": null,
            "grid_gap": null,
            "grid_row": null,
            "grid_template_areas": null,
            "grid_template_columns": null,
            "grid_template_rows": null,
            "height": null,
            "justify_content": null,
            "justify_items": null,
            "left": null,
            "margin": null,
            "max_height": null,
            "max_width": null,
            "min_height": null,
            "min_width": null,
            "object_fit": null,
            "object_position": null,
            "order": null,
            "overflow": null,
            "overflow_x": null,
            "overflow_y": null,
            "padding": null,
            "right": null,
            "top": null,
            "visibility": null,
            "width": "70%"
          }
        },
        "849b03979f814b688c4cefc0f5ebe223": {
          "model_module": "@jupyter-widgets/controls",
          "model_name": "DescriptionStyleModel",
          "model_module_version": "1.5.0",
          "state": {
            "_model_module": "@jupyter-widgets/controls",
            "_model_module_version": "1.5.0",
            "_model_name": "DescriptionStyleModel",
            "_view_count": null,
            "_view_module": "@jupyter-widgets/base",
            "_view_module_version": "1.2.0",
            "_view_name": "StyleView",
            "description_width": ""
          }
        }
      }
    }
  },
  "cells": [
    {
      "cell_type": "markdown",
      "metadata": {
        "id": "view-in-github",
        "colab_type": "text"
      },
      "source": [
        "<a href=\"https://colab.research.google.com/github/Juanolguin21/IA-/blob/main/Interfaz_Jubilados.ipynb\" target=\"_parent\"><img src=\"https://colab.research.google.com/assets/colab-badge.svg\" alt=\"Open In Colab\"/></a>"
      ]
    },
    {
      "cell_type": "code",
      "source": [
        "pip install openai"
      ],
      "metadata": {
        "id": "BXTz50lYPokZ"
      },
      "execution_count": null,
      "outputs": []
    },
    {
      "cell_type": "code",
      "source": [
        "pip install groq"
      ],
      "metadata": {
        "id": "FMJ0L7F7VMbS"
      },
      "execution_count": null,
      "outputs": []
    },
    {
      "cell_type": "code",
      "execution_count": 10,
      "metadata": {
        "id": "9K2GtAeWl75Q",
        "colab": {
          "base_uri": "https://localhost:8080/",
          "height": 208,
          "referenced_widgets": [
            "e2f0e89e94654b4fac5a70f8542f44f6",
            "b01a41f11c4642b790a727285c18ff24",
            "19487c7fb32a42ba9dfba1b93b239f96",
            "ef0fba9ddb7945d6bfc7c6b3d6835c9b",
            "086a8d3ea69941eaa55e7f5411e052cd",
            "fd031767e9444872a167f75605b2346d",
            "f90b9157bbf34628bcd616275a6ac2b6",
            "edc11d784bde4efe9e57e1a7afebbdc5",
            "1279e94d2248405bbd6d5538c0cd21ea",
            "21a4d27a67e14e14ae2b96e887b75212",
            "8acfd2a8729240ddb4e6392eeba1dc39",
            "849b03979f814b688c4cefc0f5ebe223"
          ]
        },
        "outputId": "b0dd44e6-2525-4e5b-e87a-534ebc29b891"
      },
      "outputs": [
        {
          "output_type": "display_data",
          "data": {
            "text/plain": [
              "HTML(value=\"<h2 style='text-align: center;'>Asistente para Cajeros Automáticos</h2>\")"
            ],
            "application/vnd.jupyter.widget-view+json": {
              "version_major": 2,
              "version_minor": 0,
              "model_id": "e2f0e89e94654b4fac5a70f8542f44f6"
            }
          },
          "metadata": {}
        },
        {
          "output_type": "display_data",
          "data": {
            "text/plain": [
              "HTML(value=\"<p style='text-align: center;'>Seleccione una pregunta común o ingrese su pregunta personalizada.<…"
            ],
            "application/vnd.jupyter.widget-view+json": {
              "version_major": 2,
              "version_minor": 0,
              "model_id": "ef0fba9ddb7945d6bfc7c6b3d6835c9b"
            }
          },
          "metadata": {}
        },
        {
          "output_type": "display_data",
          "data": {
            "text/plain": [
              "HTML(value=\"<h3 style='text-align: center;'>Preguntas Frecuentes</h3>\")"
            ],
            "application/vnd.jupyter.widget-view+json": {
              "version_major": 2,
              "version_minor": 0,
              "model_id": "f90b9157bbf34628bcd616275a6ac2b6"
            }
          },
          "metadata": {}
        },
        {
          "output_type": "display_data",
          "data": {
            "text/plain": [
              "Dropdown(description='Seleccione:', layout=Layout(width='70%'), options=('¿Cómo retirar dinero de un cajero au…"
            ],
            "application/vnd.jupyter.widget-view+json": {
              "version_major": 2,
              "version_minor": 0,
              "model_id": "21a4d27a67e14e14ae2b96e887b75212"
            }
          },
          "metadata": {}
        },
        {
          "output_type": "stream",
          "name": "stdout",
          "text": [
            "Respuesta: Para retirar dinero, inserta tu tarjeta, ingresa tu PIN, selecciona 'Retirar dinero' y sigue las instrucciones en pantalla.\n"
          ]
        }
      ],
      "source": [
        "import openai\n",
        "import ipywidgets as widgets\n",
        "from IPython.display import display, clear_output\n",
        "from groq import Groq\n",
        "\n",
        "cliente = Groq(api_key=\"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\")\n",
        "\n",
        "# preguntas frecuentes\n",
        "faq = {\n",
        "    \"¿Cómo retirar dinero de un cajero automático?\": \"Para retirar dinero, inserta tu tarjeta, ingresa tu PIN, selecciona 'Retirar dinero' y sigue las instrucciones en pantalla.\",\n",
        "    \"¿Qué hacer si mi tarjeta queda atrapada en el cajero?\": \"Si tu tarjeta queda atrapada, espera un momento para ver si el cajero la devuelve. Si no, contacta al banco inmediatamente.\",\n",
        "    \"¿Los cajeros automáticos cobran comisión?\": \"Algunos cajeros automáticos pueden cobrar una tarifa por transacción, especialmente si no pertenecen a tu banco.\",\n",
        "    \"¿Cómo consultar mi saldo en un cajero automático?\": \"Inserta tu tarjeta, ingresa tu PIN y selecciona 'Consultar saldo' en el menú principal.\",\n",
        "    \"¿Qué hacer si veo un error en la transacción?\": \"Contacta a tu banco inmediatamente para reportar el problema y solicitar asistencia.\",\n",
        "    \"¿Qué hacer si el cajero automático no imprime recibo?\": \"Asegúrate de que el cajero esté funcionando correctamente. Si no imprime el recibo, verifica tu saldo en el extracto de cuenta y contacta a tu banco si es necesario.\",\n",
        "    \"¿Puedo usar cualquier cajero automático con mi tarjeta?\": \"Generalmente, puedes usar cualquier cajero automático, pero algunos pueden cobrar comisiones si no pertenecen a tu banco.\",\n",
        "    \"¿Cómo cambiar mi PIN en un cajero automático?\": \"Inserta tu tarjeta, ingresa tu PIN actual, luego busca la opción de 'Cambio de PIN' y sigue las instrucciones en pantalla.\",\n",
        "    \"¿Qué hacer si el cajero automático me da una cantidad incorrecta?\": \"Reporta el problema al banco de inmediato y proporciona detalles de la transacción. Mantén cualquier recibo si es posible.\",\n",
        "    \"¿Es seguro usar un cajero automático?\": \"Sí, pero asegúrate de que el lugar sea seguro y de cubrir el teclado al ingresar tu PIN. Evita usar cajeros que parezcan sospechosos.\",\n",
        "    \"¿Puedo realizar depósitos en cualquier cajero automático?\": \"Esto depende de tu banco. Algunos cajeros automáticos permiten depósitos, mientras que otros solo permiten retiros.\",\n",
        "    \"¿Cuál es el límite de retiro diario en un cajero automático?\": \"El límite varía según el banco y el tipo de cuenta que tengas. Generalmente oscila entre $300 y $1,000 por día.\",\n",
        "    \"¿Qué hacer si el cajero automático muestra un mensaje de error?\": \"No intentes forzar una transacción. Sal del cajero y vuelve a intentarlo con otro cajero o contacta al banco.\",\n",
        "    \"¿Puedo cancelar una transacción en un cajero automático?\": \"La mayoría de los cajeros automáticos te permiten cancelar la transacción antes de completarla. Busca la opción en la pantalla.\",\n",
        "    \"¿Qué información necesito para usar un cajero automático?\": \"Necesitas tu tarjeta de débito o crédito y tu PIN. Asegúrate de que la tarjeta sea aceptada por el cajero.\"\n",
        "}\n",
        "\n",
        "# manejar el botón de consulta\n",
        "def consultar_api(pregunta):\n",
        "    response = cliente.chat.completions.create(\n",
        "        model=\"llama3-8b-8192\",\n",
        "        temperature=0.7,\n",
        "        max_tokens=500,\n",
        "        messages=[\n",
        "            {\"role\": \"user\", \"content\": pregunta}\n",
        "        ]\n",
        "    )\n",
        "    return response.choices[0].message.content\n",
        "\n",
        "def limpiar(b):\n",
        "    clear_output()\n",
        "    display_interface()\n",
        "\n",
        "#  mostrar la interfaz\n",
        "def display_interface():\n",
        "    clear_output()\n",
        "    display(titulo, instrucciones)\n",
        "\n",
        "    #  preguntas frecuentes\n",
        "    display(faq_label, faq_selector)\n",
        "\n",
        "    if faq_selector.value == 'Pregunta personalizada':\n",
        "        display(caja_texto, boton_consultar)\n",
        "        print(\"\")\n",
        "    else:\n",
        "        caja_texto.value = ''\n",
        "        respuesta_comun = faq[faq_selector.value]\n",
        "        print(\"Respuesta:\", respuesta_comun)\n",
        "\n",
        "# selección de preguntas frecuentes\n",
        "def on_faq_select(change):\n",
        "    clear_output()\n",
        "    display_interface()\n",
        "\n",
        "\n",
        "titulo = widgets.HTML(\"<h2 style='text-align: center;'>Asistente para Cajeros Automáticos</h2>\")\n",
        "instrucciones = widgets.HTML(\"<p style='text-align: center;'>Seleccione una pregunta común o ingrese su pregunta personalizada.</p>\")\n",
        "faq_label = widgets.HTML(\"<h3 style='text-align: center;'>Preguntas Frecuentes</h3>\")\n",
        "\n",
        "# menú desplegable para preguntas frecuentes\n",
        "options = list(faq.keys()) + ['Pregunta personalizada']\n",
        "faq_selector = widgets.Dropdown(\n",
        "    options=options,\n",
        "    description='Seleccione:',\n",
        "    disabled=False,\n",
        "     layout=widgets.Layout(width='70%')\n",
        ")\n",
        "\n",
        "#  preguntas personalizadas\n",
        "caja_texto = widgets.Text(\n",
        "    description='Pregunta:',\n",
        "    placeholder='Escribe tu pregunta aquí...',\n",
        "    layout=widgets.Layout(width='100%')\n",
        ")\n",
        "\n",
        "boton_consultar = widgets.Button(description=\"Consultar\")\n",
        "boton_consultar.on_click(lambda b: print(\"Consulta:\", consultar_api(caja_texto.value)))  # API para consulta personalizada\n",
        "\n",
        "boton_limpiar = widgets.Button(description=\"Limpiar\")\n",
        "boton_limpiar.on_click(limpiar)\n",
        "\n",
        "#  menú desplegable\n",
        "faq_selector.observe(on_faq_select, names='value')\n",
        "\n",
        "display_interface()"
      ]
    }
  ]
}