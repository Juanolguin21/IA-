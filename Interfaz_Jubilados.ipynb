{
  "nbformat": 4,
  "nbformat_minor": 0,
  "metadata": {
    "colab": {
      "provenance": [],
      "authorship_tag": "ABX9TyMmYv7lfCzBo4F7DwWUpRxz",
      "include_colab_link": true
    },
    "kernelspec": {
      "name": "python3",
      "display_name": "Python 3"
    },
    "language_info": {
      "name": "python"
    },
    "widgets": {
      "application/vnd.jupyter.widget-state+json": {
        "82eee9b16daf4af7a9feed187ca4562a": {
          "model_module": "@jupyter-widgets/controls",
          "model_name": "HTMLModel",
          "model_module_version": "1.5.0",
          "state": {
            "_dom_classes": [],
            "_model_module": "@jupyter-widgets/controls",
            "_model_module_version": "1.5.0",
            "_model_name": "HTMLModel",
            "_view_count": null,
            "_view_module": "@jupyter-widgets/controls",
            "_view_module_version": "1.5.0",
            "_view_name": "HTMLView",
            "description": "",
            "description_tooltip": null,
            "layout": "IPY_MODEL_60a93887f3c14833a0277f8d11c8e569",
            "placeholder": "​",
            "style": "IPY_MODEL_2e71cfaca6bc45a69fc60f7ba144248e",
            "value": "<h2 style='text-align: center;'>Asistente para Cajeros Automáticos</h2>"
          }
        },
        "60a93887f3c14833a0277f8d11c8e569": {
          "model_module": "@jupyter-widgets/base",
          "model_name": "LayoutModel",
          "model_module_version": "1.2.0",
          "state": {
            "_model_module": "@jupyter-widgets/base",
            "_model_module_version": "1.2.0",
            "_model_name": "LayoutModel",
            "_view_count": null,
            "_view_module": "@jupyter-widgets/base",
            "_view_module_version": "1.2.0",
            "_view_name": "LayoutView",
            "align_content": null,
            "align_items": null,
            "align_self": null,
            "border": null,
            "bottom": null,
            "display": null,
            "flex": null,
            "flex_flow": null,
            "grid_area": null,
            "grid_auto_columns": null,
            "grid_auto_flow": null,
            "grid_auto_rows": null,
            "grid_column": null,
            "grid_gap": null,
            "grid_row": null,
            "grid_template_areas": null,
            "grid_template_columns": null,
            "grid_template_rows": null,
            "height": null,
            "justify_content": null,
            "justify_items": null,
            "left": null,
            "margin": null,
            "max_height": null,
            "max_width": null,
            "min_height": null,
            "min_width": null,
            "object_fit": null,
            "object_position": null,
            "order": null,
            "overflow": null,
            "overflow_x": null,
            "overflow_y": null,
            "padding": null,
            "right": null,
            "top": null,
            "visibility": null,
            "width": null
          }
        },
        "2e71cfaca6bc45a69fc60f7ba144248e": {
          "model_module": "@jupyter-widgets/controls",
          "model_name": "DescriptionStyleModel",
          "model_module_version": "1.5.0",
          "state": {
            "_model_module": "@jupyter-widgets/controls",
            "_model_module_version": "1.5.0",
            "_model_name": "DescriptionStyleModel",
            "_view_count": null,
            "_view_module": "@jupyter-widgets/base",
            "_view_module_version": "1.2.0",
            "_view_name": "StyleView",
            "description_width": ""
          }
        },
        "f6d3e1fa3b5b4c35bce7ba592360a76b": {
          "model_module": "@jupyter-widgets/controls",
          "model_name": "HTMLModel",
          "model_module_version": "1.5.0",
          "state": {
            "_dom_classes": [],
            "_model_module": "@jupyter-widgets/controls",
            "_model_module_version": "1.5.0",
            "_model_name": "HTMLModel",
            "_view_count": null,
            "_view_module": "@jupyter-widgets/controls",
            "_view_module_version": "1.5.0",
            "_view_name": "HTMLView",
            "description": "",
            "description_tooltip": null,
            "layout": "IPY_MODEL_6cefb345b2aa445886e6d2dff33a47b1",
            "placeholder": "​",
            "style": "IPY_MODEL_e91c405cf0a3493fb6fcda9e1870a96c",
            "value": "<p style='text-align: center;'>Seleccione una pregunta común o ingrese su pregunta personalizada.</p>"
          }
        },
        "6cefb345b2aa445886e6d2dff33a47b1": {
          "model_module": "@jupyter-widgets/base",
          "model_name": "LayoutModel",
          "model_module_version": "1.2.0",
          "state": {
            "_model_module": "@jupyter-widgets/base",
            "_model_module_version": "1.2.0",
            "_model_name": "LayoutModel",
            "_view_count": null,
            "_view_module": "@jupyter-widgets/base",
            "_view_module_version": "1.2.0",
            "_view_name": "LayoutView",
            "align_content": null,
            "align_items": null,
            "align_self": null,
            "border": null,
            "bottom": null,
            "display": null,
            "flex": null,
            "flex_flow": null,
            "grid_area": null,
            "grid_auto_columns": null,
            "grid_auto_flow": null,
            "grid_auto_rows": null,
            "grid_column": null,
            "grid_gap": null,
            "grid_row": null,
            "grid_template_areas": null,
            "grid_template_columns": null,
            "grid_template_rows": null,
            "height": null,
            "justify_content": null,
            "justify_items": null,
            "left": null,
            "margin": null,
            "max_height": null,
            "max_width": null,
            "min_height": null,
            "min_width": null,
            "object_fit": null,
            "object_position": null,
            "order": null,
            "overflow": null,
            "overflow_x": null,
            "overflow_y": null,
            "padding": null,
            "right": null,
            "top": null,
            "visibility": null,
            "width": null
          }
        },
        "e91c405cf0a3493fb6fcda9e1870a96c": {
          "model_module": "@jupyter-widgets/controls",
          "model_name": "DescriptionStyleModel",
          "model_module_version": "1.5.0",
          "state": {
            "_model_module": "@jupyter-widgets/controls",
            "_model_module_version": "1.5.0",
            "_model_name": "DescriptionStyleModel",
            "_view_count": null,
            "_view_module": "@jupyter-widgets/base",
            "_view_module_version": "1.2.0",
            "_view_name": "StyleView",
            "description_width": ""
          }
        },
        "2f5139b6e30f4e5d90d4fbf7cb1a5e0b": {
          "model_module": "@jupyter-widgets/controls",
          "model_name": "HTMLModel",
          "model_module_version": "1.5.0",
          "state": {
            "_dom_classes": [],
            "_model_module": "@jupyter-widgets/controls",
            "_model_module_version": "1.5.0",
            "_model_name": "HTMLModel",
            "_view_count": null,
            "_view_module": "@jupyter-widgets/controls",
            "_view_module_version": "1.5.0",
            "_view_name": "HTMLView",
            "description": "",
            "description_tooltip": null,
            "layout": "IPY_MODEL_7894b3614fd846508660bcbab0d64edc",
            "placeholder": "​",
            "style": "IPY_MODEL_628fff04062a45e9a03492c13774817b",
            "value": "<h3 style='text-align: center;'>Preguntas Frecuentes</h3>"
          }
        },
        "7894b3614fd846508660bcbab0d64edc": {
          "model_module": "@jupyter-widgets/base",
          "model_name": "LayoutModel",
          "model_module_version": "1.2.0",
          "state": {
            "_model_module": "@jupyter-widgets/base",
            "_model_module_version": "1.2.0",
            "_model_name": "LayoutModel",
            "_view_count": null,
            "_view_module": "@jupyter-widgets/base",
            "_view_module_version": "1.2.0",
            "_view_name": "LayoutView",
            "align_content": null,
            "align_items": null,
            "align_self": null,
            "border": null,
            "bottom": null,
            "display": null,
            "flex": null,
            "flex_flow": null,
            "grid_area": null,
            "grid_auto_columns": null,
            "grid_auto_flow": null,
            "grid_auto_rows": null,
            "grid_column": null,
            "grid_gap": null,
            "grid_row": null,
            "grid_template_areas": null,
            "grid_template_columns": null,
            "grid_template_rows": null,
            "height": null,
            "justify_content": null,
            "justify_items": null,
            "left": null,
            "margin": null,
            "max_height": null,
            "max_width": null,
            "min_height": null,
            "min_width": null,
            "object_fit": null,
            "object_position": null,
            "order": null,
            "overflow": null,
            "overflow_x": null,
            "overflow_y": null,
            "padding": null,
            "right": null,
            "top": null,
            "visibility": null,
            "width": null
          }
        },
        "628fff04062a45e9a03492c13774817b": {
          "model_module": "@jupyter-widgets/controls",
          "model_name": "DescriptionStyleModel",
          "model_module_version": "1.5.0",
          "state": {
            "_model_module": "@jupyter-widgets/controls",
            "_model_module_version": "1.5.0",
            "_model_name": "DescriptionStyleModel",
            "_view_count": null,
            "_view_module": "@jupyter-widgets/base",
            "_view_module_version": "1.2.0",
            "_view_name": "StyleView",
            "description_width": ""
          }
        },
        "79e60490a70449bfad24e3b0fa5c4af3": {
          "model_module": "@jupyter-widgets/controls",
          "model_name": "DropdownModel",
          "model_module_version": "1.5.0",
          "state": {
            "_dom_classes": [],
            "_model_module": "@jupyter-widgets/controls",
            "_model_module_version": "1.5.0",
            "_model_name": "DropdownModel",
            "_options_labels": [
              "¿Cómo retirar dinero de un cajero automático?",
              "¿Qué hacer si mi tarjeta queda atrapada en el cajero?",
              "¿Los cajeros automáticos cobran comisión?",
              "¿Cómo consultar mi saldo en un cajero automático?",
              "¿Qué hacer si veo un error en la transacción?",
              "¿Qué hacer si el cajero automático no imprime recibo?",
              "¿Puedo usar cualquier cajero automático con mi tarjeta?",
              "¿Cómo cambiar mi PIN en un cajero automático?",
              "¿Qué hacer si el cajero automático me da una cantidad incorrecta?",
              "¿Es seguro usar un cajero automático?",
              "¿Puedo realizar depósitos en cualquier cajero automático?",
              "¿Cuál es el límite de retiro diario en un cajero automático?",
              "¿Qué hacer si el cajero automático muestra un mensaje de error?",
              "¿Puedo cancelar una transacción en un cajero automático?",
              "¿Qué información necesito para usar un cajero automático?",
              "Pregunta personalizada"
            ],
            "_view_count": null,
            "_view_module": "@jupyter-widgets/controls",
            "_view_module_version": "1.5.0",
            "_view_name": "DropdownView",
            "description": "Seleccione:",
            "description_tooltip": null,
            "disabled": false,
            "index": 15,
            "layout": "IPY_MODEL_4998ceb92b4e48179024467743ee513f",
            "style": "IPY_MODEL_67fbb5de3add423eb0bf09f6376aa1f7"
          }
        },
        "4998ceb92b4e48179024467743ee513f": {
          "model_module": "@jupyter-widgets/base",
          "model_name": "LayoutModel",
          "model_module_version": "1.2.0",
          "state": {
            "_model_module": "@jupyter-widgets/base",
            "_model_module_version": "1.2.0",
            "_model_name": "LayoutModel",
            "_view_count": null,
            "_view_module": "@jupyter-widgets/base",
            "_view_module_version": "1.2.0",
            "_view_name": "LayoutView",
            "align_content": null,
            "align_items": null,
            "align_self": null,
            "border": null,
            "bottom": null,
            "display": null,
            "flex": null,
            "flex_flow": null,
            "grid_area": null,
            "grid_auto_columns": null,
            "grid_auto_flow": null,
            "grid_auto_rows": null,
            "grid_column": null,
            "grid_gap": null,
            "grid_row": null,
            "grid_template_areas": null,
            "grid_template_columns": null,
            "grid_template_rows": null,
            "height": null,
            "justify_content": null,
            "justify_items": null,
            "left": null,
            "margin": null,
            "max_height": null,
            "max_width": null,
            "min_height": null,
            "min_width": null,
            "object_fit": null,
            "object_position": null,
            "order": null,
            "overflow": null,
            "overflow_x": null,
            "overflow_y": null,
            "padding": null,
            "right": null,
            "top": null,
            "visibility": null,
            "width": "70%"
          }
        },
        "67fbb5de3add423eb0bf09f6376aa1f7": {
          "model_module": "@jupyter-widgets/controls",
          "model_name": "DescriptionStyleModel",
          "model_module_version": "1.5.0",
          "state": {
            "_model_module": "@jupyter-widgets/controls",
            "_model_module_version": "1.5.0",
            "_model_name": "DescriptionStyleModel",
            "_view_count": null,
            "_view_module": "@jupyter-widgets/base",
            "_view_module_version": "1.2.0",
            "_view_name": "StyleView",
            "description_width": ""
          }
        },
        "65bf3090af42455e9c9b82d8023655b2": {
          "model_module": "@jupyter-widgets/controls",
          "model_name": "ButtonModel",
          "model_module_version": "1.5.0",
          "state": {
            "_dom_classes": [],
            "_model_module": "@jupyter-widgets/controls",
            "_model_module_version": "1.5.0",
            "_model_name": "ButtonModel",
            "_view_count": null,
            "_view_module": "@jupyter-widgets/controls",
            "_view_module_version": "1.5.0",
            "_view_name": "ButtonView",
            "button_style": "",
            "description": "Consultar",
            "disabled": false,
            "icon": "",
            "layout": "IPY_MODEL_5a651d40fc26446c81538b343ea7c41e",
            "style": "IPY_MODEL_ff3e78fe71c54ac5987816a0923c409a",
            "tooltip": ""
          }
        },
        "5a651d40fc26446c81538b343ea7c41e": {
          "model_module": "@jupyter-widgets/base",
          "model_name": "LayoutModel",
          "model_module_version": "1.2.0",
          "state": {
            "_model_module": "@jupyter-widgets/base",
            "_model_module_version": "1.2.0",
            "_model_name": "LayoutModel",
            "_view_count": null,
            "_view_module": "@jupyter-widgets/base",
            "_view_module_version": "1.2.0",
            "_view_name": "LayoutView",
            "align_content": null,
            "align_items": null,
            "align_self": null,
            "border": null,
            "bottom": null,
            "display": null,
            "flex": null,
            "flex_flow": null,
            "grid_area": null,
            "grid_auto_columns": null,
            "grid_auto_flow": null,
            "grid_auto_rows": null,
            "grid_column": null,
            "grid_gap": null,
            "grid_row": null,
            "grid_template_areas": null,
            "grid_template_columns": null,
            "grid_template_rows": null,
            "height": null,
            "justify_content": null,
            "justify_items": null,
            "left": null,
            "margin": null,
            "max_height": null,
            "max_width": null,
            "min_height": null,
            "min_width": null,
            "object_fit": null,
            "object_position": null,
            "order": null,
            "overflow": null,
            "overflow_x": null,
            "overflow_y": null,
            "padding": null,
            "right": null,
            "top": null,
            "visibility": null,
            "width": null
          }
        },
        "ff3e78fe71c54ac5987816a0923c409a": {
          "model_module": "@jupyter-widgets/controls",
          "model_name": "ButtonStyleModel",
          "model_module_version": "1.5.0",
          "state": {
            "_model_module": "@jupyter-widgets/controls",
            "_model_module_version": "1.5.0",
            "_model_name": "ButtonStyleModel",
            "_view_count": null,
            "_view_module": "@jupyter-widgets/base",
            "_view_module_version": "1.2.0",
            "_view_name": "StyleView",
            "button_color": null,
            "font_weight": ""
          }
        },
        "a6c81139508749d28da2ba925cc64f41": {
          "model_module": "@jupyter-widgets/controls",
          "model_name": "ButtonModel",
          "model_module_version": "1.5.0",
          "state": {
            "_dom_classes": [],
            "_model_module": "@jupyter-widgets/controls",
            "_model_module_version": "1.5.0",
            "_model_name": "ButtonModel",
            "_view_count": null,
            "_view_module": "@jupyter-widgets/controls",
            "_view_module_version": "1.5.0",
            "_view_name": "ButtonView",
            "button_style": "",
            "description": "Limpiar",
            "disabled": false,
            "icon": "",
            "layout": "IPY_MODEL_ad201c9efe2f4e329258e5505bb33b23",
            "style": "IPY_MODEL_3814dc2580d747959fb7e0b2f3155aa8",
            "tooltip": ""
          }
        },
        "ad201c9efe2f4e329258e5505bb33b23": {
          "model_module": "@jupyter-widgets/base",
          "model_name": "LayoutModel",
          "model_module_version": "1.2.0",
          "state": {
            "_model_module": "@jupyter-widgets/base",
            "_model_module_version": "1.2.0",
            "_model_name": "LayoutModel",
            "_view_count": null,
            "_view_module": "@jupyter-widgets/base",
            "_view_module_version": "1.2.0",
            "_view_name": "LayoutView",
            "align_content": null,
            "align_items": null,
            "align_self": null,
            "border": null,
            "bottom": null,
            "display": null,
            "flex": null,
            "flex_flow": null,
            "grid_area": null,
            "grid_auto_columns": null,
            "grid_auto_flow": null,
            "grid_auto_rows": null,
            "grid_column": null,
            "grid_gap": null,
            "grid_row": null,
            "grid_template_areas": null,
            "grid_template_columns": null,
            "grid_template_rows": null,
            "height": null,
            "justify_content": null,
            "justify_items": null,
            "left": null,
            "margin": null,
            "max_height": null,
            "max_width": null,
            "min_height": null,
            "min_width": null,
            "object_fit": null,
            "object_position": null,
            "order": null,
            "overflow": null,
            "overflow_x": null,
            "overflow_y": null,
            "padding": null,
            "right": null,
            "top": null,
            "visibility": null,
            "width": null
          }
        },
        "3814dc2580d747959fb7e0b2f3155aa8": {
          "model_module": "@jupyter-widgets/controls",
          "model_name": "ButtonStyleModel",
          "model_module_version": "1.5.0",
          "state": {
            "_model_module": "@jupyter-widgets/controls",
            "_model_module_version": "1.5.0",
            "_model_name": "ButtonStyleModel",
            "_view_count": null,
            "_view_module": "@jupyter-widgets/base",
            "_view_module_version": "1.2.0",
            "_view_name": "StyleView",
            "button_color": null,
            "font_weight": ""
          }
        },
        "8b47b795f5044b80966a5e2bc4fd5588": {
          "model_module": "@jupyter-widgets/controls",
          "model_name": "TextModel",
          "model_module_version": "1.5.0",
          "state": {
            "_dom_classes": [],
            "_model_module": "@jupyter-widgets/controls",
            "_model_module_version": "1.5.0",
            "_model_name": "TextModel",
            "_view_count": null,
            "_view_module": "@jupyter-widgets/controls",
            "_view_module_version": "1.5.0",
            "_view_name": "TextView",
            "continuous_update": true,
            "description": "Pregunta:",
            "description_tooltip": null,
            "disabled": false,
            "layout": "IPY_MODEL_01285b1a78724423bc6c289131895449",
            "placeholder": "Escribe tu pregunta aquí...",
            "style": "IPY_MODEL_e0131ac3f0ea40e284987dc21640e0db",
            "value": "como se usa la tarjeta de debito"
          }
        },
        "01285b1a78724423bc6c289131895449": {
          "model_module": "@jupyter-widgets/base",
          "model_name": "LayoutModel",
          "model_module_version": "1.2.0",
          "state": {
            "_model_module": "@jupyter-widgets/base",
            "_model_module_version": "1.2.0",
            "_model_name": "LayoutModel",
            "_view_count": null,
            "_view_module": "@jupyter-widgets/base",
            "_view_module_version": "1.2.0",
            "_view_name": "LayoutView",
            "align_content": null,
            "align_items": null,
            "align_self": null,
            "border": null,
            "bottom": null,
            "display": null,
            "flex": null,
            "flex_flow": null,
            "grid_area": null,
            "grid_auto_columns": null,
            "grid_auto_flow": null,
            "grid_auto_rows": null,
            "grid_column": null,
            "grid_gap": null,
            "grid_row": null,
            "grid_template_areas": null,
            "grid_template_columns": null,
            "grid_template_rows": null,
            "height": null,
            "justify_content": null,
            "justify_items": null,
            "left": null,
            "margin": null,
            "max_height": null,
            "max_width": null,
            "min_height": null,
            "min_width": null,
            "object_fit": null,
            "object_position": null,
            "order": null,
            "overflow": null,
            "overflow_x": null,
            "overflow_y": null,
            "padding": null,
            "right": null,
            "top": null,
            "visibility": null,
            "width": "100%"
          }
        },
        "e0131ac3f0ea40e284987dc21640e0db": {
          "model_module": "@jupyter-widgets/controls",
          "model_name": "DescriptionStyleModel",
          "model_module_version": "1.5.0",
          "state": {
            "_model_module": "@jupyter-widgets/controls",
            "_model_module_version": "1.5.0",
            "_model_name": "DescriptionStyleModel",
            "_view_count": null,
            "_view_module": "@jupyter-widgets/base",
            "_view_module_version": "1.2.0",
            "_view_name": "StyleView",
            "description_width": ""
          }
        }
      }
    }
  },
  "cells": [
    {
      "cell_type": "markdown",
      "metadata": {
        "id": "view-in-github",
        "colab_type": "text"
      },
      "source": [
        "<a href=\"https://colab.research.google.com/github/Juanolguin21/IA-/blob/main/Interfaz_Jubilados.ipynb\" target=\"_parent\"><img src=\"https://colab.research.google.com/assets/colab-badge.svg\" alt=\"Open In Colab\"/></a>"
      ]
    },
    {
      "cell_type": "markdown",
      "source": [
        "# **Trabajo Final: Asistente Virtual para Jubilados en el Uso de Cajeros Automáticos y Resolución de Problemas Bancarios**"
      ],
      "metadata": {
        "id": "hQ9NWibUJNx5"
      }
    },
    {
      "cell_type": "markdown",
      "source": [
        "# **Resumen**\n",
        "\n",
        "El objetivo de este proyecto es desarrollar un sistema que facilite el uso de cajeros automáticos y la resolución de problemas bancarios generales para los jubilados, proporcionando asistencia virtual a través de una interfaz fácil de usar. Utilizaremos la API de OpenAI para GPT-4 para generar instrucciones claras y personalizadas basadas en las necesidades del usuario y para responder a preguntas frecuentes sobre diversos temas bancarios."
      ],
      "metadata": {
        "id": "mH6tXGZvJNlT"
      }
    },
    {
      "cell_type": "markdown",
      "source": [
        "# **Índice Actual**\n",
        "\n",
        "1.\tIntroducción\n",
        "2.\tObjetivos\n",
        "3.\tMetodología\n",
        "4.\tHerramientas y Tecnologías\n",
        "\n",
        "\n"
      ],
      "metadata": {
        "id": "8eD7A8HFJNgO"
      }
    },
    {
      "cell_type": "markdown",
      "source": [
        "# 1. **Introducción**\n",
        "\n",
        "En la actualidad, el acceso a servicios bancarios ha cobrado una importancia vital en la vida cotidiana de las personas. Sin embargo, este acceso puede estar acompañado de desafíos significativos, especialmente para los jubilados, quienes, debido a factores como la falta de familiaridad con la tecnología y posibles limitaciones físicas, pueden enfrentar dificultades al interactuar con cajeros automáticos y otros servicios bancarios digitales. A pesar de la creciente automatización de las operaciones bancarias, muchos jubilados se sienten inseguros o confusos sobre cómo utilizar estas herramientas, lo que puede llevar a una experiencia frustrante y a la exclusión de servicios que deberían ser accesibles para todos.\n",
        "Este proyecto propone el desarrollo de un asistente virtual diseñado específicamente para ayudar a los jubilados en sus interacciones con cajeros automáticos y en la resolución de problemas bancarios generales. Al integrar la tecnología de procesamiento de lenguaje natural mediante la API de OpenAI GPT-4, se espera proporcionar una solución intuitiva y accesible que ofrezca instrucciones claras y respuestas a preguntas frecuentes. La creación de esta herramienta tiene como objetivo no solo facilitar el acceso a los servicios bancarios, sino también empoderar a los jubilados para que gestionen de manera más efectiva sus finanzas y se sientan más seguros al utilizar la tecnología.\n",
        "En resumen, el asistente virtual busca cerrar la brecha digital que enfrentan muchos jubilados, promoviendo un entorno más inclusivo y accesible en el ámbito bancario y, por ende, mejorando su calidad de vida.\n"
      ],
      "metadata": {
        "id": "sZt2QAbwJNZk"
      }
    },
    {
      "cell_type": "markdown",
      "source": [
        "# 2. **Objetivos**\n",
        "\n",
        "•\tProporcionar instrucciones claras y personalizadas sobre cómo utilizar cajeros automáticos.\n",
        "\n",
        "•\tOfrecer asistencia para resolver problemas bancarios comunes (cobros, transferencias, errores en cuentas, etc.).\n",
        "\n",
        "•\tFacilitar un entorno de uso accesible y cómodo para los jubilados a través de una interfaz amigable.\n",
        "\n",
        "•\tBrindar un canal para resolver dudas generales sobre servicios bancarios.\n"
      ],
      "metadata": {
        "id": "4PFsCo7uJNTi"
      }
    },
    {
      "cell_type": "markdown",
      "source": [
        "# 3. **Metodología**\n",
        "\n",
        "•\tRecopilación de Datos: Obtener información sobre las dificultades que enfrentan los jubilados al usar cajeros automáticos y en la gestión de sus cuentas bancarias, así como las preguntas más comunes que surgen.\n",
        "\n",
        "•\tProcesamiento de Texto: Utilizar GROQ para generar respuestas útiles e instrucciones comprensibles sobre el uso del cajero automático y la solución de problemas bancarios.\n",
        "\n",
        "•\tInterfaz de Usuario: Diseñar una interfaz simple donde los usuarios pueden interactuar con el asistente virtual fácilmente, haciendo preguntas y recibiendo respuestas sobre cajeros automáticos y otros aspectos bancarios.\n"
      ],
      "metadata": {
        "id": "NRBy7-JNJNND"
      }
    },
    {
      "cell_type": "markdown",
      "source": [
        "# 4. **Herramientas** y **Tecnologías**\n",
        "\n",
        "\n",
        "•\tAPI de OpenAI GPT-4: Para procesar el lenguaje natural y generar respuestas funcionales.\n",
        "\n",
        "•\tGroqe: IA con api key gratuita a modo de inicio del sistema\n",
        "\n",
        "•\tDeepAI: IA con api key para generacion de imagenes\n",
        "\n",
        "•\tAplicaciones Web o Móviles: Para la creación de una interfaz accesible y fácil de usar.\n",
        "\n",
        "•\tTesting con Usuarios: Sesiones de prueba con jubilados para mejorar la efectividad y usabilidad del sistema.\n",
        "\n"
      ],
      "metadata": {
        "id": "qsMDdoNRJNFG"
      }
    },
    {
      "cell_type": "markdown",
      "source": [
        "# **5.\tImplementación**\n",
        "\n",
        "1.\tJupyter file en colab del repositorio, comienzo de la implementación (Api key en Groq y en Deep AI para las imagenes en preguntas perzoanlizadas)\n"
      ],
      "metadata": {
        "id": "mi91Eh1BJMvt"
      }
    },
    {
      "cell_type": "markdown",
      "source": [
        "\n",
        "\n",
        "\n",
        "\n",
        "\n",
        "."
      ],
      "metadata": {
        "id": "G4-EZCQ7K418"
      }
    },
    {
      "cell_type": "code",
      "source": [
        "pip install openai"
      ],
      "metadata": {
        "id": "BXTz50lYPokZ"
      },
      "execution_count": null,
      "outputs": []
    },
    {
      "cell_type": "code",
      "source": [
        "pip install groq"
      ],
      "metadata": {
        "id": "FMJ0L7F7VMbS"
      },
      "execution_count": null,
      "outputs": []
    },
    {
      "cell_type": "code",
      "execution_count": 14,
      "metadata": {
        "id": "9K2GtAeWl75Q",
        "colab": {
          "base_uri": "https://localhost:8080/",
          "height": 1000,
          "referenced_widgets": [
            "82eee9b16daf4af7a9feed187ca4562a",
            "60a93887f3c14833a0277f8d11c8e569",
            "2e71cfaca6bc45a69fc60f7ba144248e",
            "f6d3e1fa3b5b4c35bce7ba592360a76b",
            "6cefb345b2aa445886e6d2dff33a47b1",
            "e91c405cf0a3493fb6fcda9e1870a96c",
            "2f5139b6e30f4e5d90d4fbf7cb1a5e0b",
            "7894b3614fd846508660bcbab0d64edc",
            "628fff04062a45e9a03492c13774817b",
            "79e60490a70449bfad24e3b0fa5c4af3",
            "4998ceb92b4e48179024467743ee513f",
            "67fbb5de3add423eb0bf09f6376aa1f7",
            "65bf3090af42455e9c9b82d8023655b2",
            "5a651d40fc26446c81538b343ea7c41e",
            "ff3e78fe71c54ac5987816a0923c409a",
            "a6c81139508749d28da2ba925cc64f41",
            "ad201c9efe2f4e329258e5505bb33b23",
            "3814dc2580d747959fb7e0b2f3155aa8",
            "8b47b795f5044b80966a5e2bc4fd5588",
            "01285b1a78724423bc6c289131895449",
            "e0131ac3f0ea40e284987dc21640e0db"
          ]
        },
        "outputId": "28244efb-0aa6-49f4-d402-db0df152e1fb"
      },
      "outputs": [
        {
          "output_type": "display_data",
          "data": {
            "text/plain": [
              "HTML(value=\"<h2 style='text-align: center;'>Asistente para Cajeros Automáticos</h2>\")"
            ],
            "application/vnd.jupyter.widget-view+json": {
              "version_major": 2,
              "version_minor": 0,
              "model_id": "82eee9b16daf4af7a9feed187ca4562a"
            }
          },
          "metadata": {}
        },
        {
          "output_type": "display_data",
          "data": {
            "text/plain": [
              "HTML(value=\"<p style='text-align: center;'>Seleccione una pregunta común o ingrese su pregunta personalizada.<…"
            ],
            "application/vnd.jupyter.widget-view+json": {
              "version_major": 2,
              "version_minor": 0,
              "model_id": "f6d3e1fa3b5b4c35bce7ba592360a76b"
            }
          },
          "metadata": {}
        },
        {
          "output_type": "display_data",
          "data": {
            "text/plain": [
              "HTML(value=\"<h3 style='text-align: center;'>Preguntas Frecuentes</h3>\")"
            ],
            "application/vnd.jupyter.widget-view+json": {
              "version_major": 2,
              "version_minor": 0,
              "model_id": "2f5139b6e30f4e5d90d4fbf7cb1a5e0b"
            }
          },
          "metadata": {}
        },
        {
          "output_type": "display_data",
          "data": {
            "text/plain": [
              "Dropdown(description='Seleccione:', index=15, layout=Layout(width='70%'), options=('¿Cómo retirar dinero de un…"
            ],
            "application/vnd.jupyter.widget-view+json": {
              "version_major": 2,
              "version_minor": 0,
              "model_id": "79e60490a70449bfad24e3b0fa5c4af3"
            }
          },
          "metadata": {}
        },
        {
          "output_type": "display_data",
          "data": {
            "text/plain": [
              "Text(value='', description='Pregunta:', layout=Layout(width='100%'), placeholder='Escribe tu pregunta aquí...'…"
            ],
            "application/vnd.jupyter.widget-view+json": {
              "version_major": 2,
              "version_minor": 0,
              "model_id": "8b47b795f5044b80966a5e2bc4fd5588"
            }
          },
          "metadata": {}
        },
        {
          "output_type": "display_data",
          "data": {
            "text/plain": [
              "Button(description='Consultar', style=ButtonStyle())"
            ],
            "application/vnd.jupyter.widget-view+json": {
              "version_major": 2,
              "version_minor": 0,
              "model_id": "65bf3090af42455e9c9b82d8023655b2"
            }
          },
          "metadata": {}
        },
        {
          "output_type": "display_data",
          "data": {
            "text/plain": [
              "Button(description='Limpiar', style=ButtonStyle())"
            ],
            "application/vnd.jupyter.widget-view+json": {
              "version_major": 2,
              "version_minor": 0,
              "model_id": "a6c81139508749d28da2ba925cc64f41"
            }
          },
          "metadata": {}
        },
        {
          "output_type": "stream",
          "name": "stdout",
          "text": [
            "Respuesta: La tarjeta de débito es un tipo de tarjeta de pago que permite al titular retirar fondos directamente de su cuenta bancaria para realizar compras o pagar servicios. A continuación, te explicaré cómo se usa una tarjeta de débito:\n",
            "\n",
            "**Requisitos previos**\n",
            "\n",
            "Para utilizar una tarjeta de débito, necesitarás:\n",
            "\n",
            "1. Una cuenta bancaria activa con fondos suficientes para cubrir los pagos.\n",
            "2. Una tarjeta de débito emitiada por tu banco o entidad financiera.\n",
            "3. Un código de seguridad PIN (Personal Identification Number) para autorizar los pagos.\n",
            "\n",
            "**Procedimiento**\n",
            "\n",
            "1. **Presentación de la tarjeta**: cuando deseas hacer una compra o pago, presenta la tarjeta de débito al cajero o vendedor.\n",
            "2. **Introducción del código de seguridad**: cuando se te solicite, introduce el código de seguridad PIN en el terminal de pago o en la máquina expendedora.\n",
            "3. **Autorización del pago**: el terminal de pago o la máquina expendedor verifya que la cuenta bancaria asociada a la tarjeta tenga fondos suficientes para cubrir el pago y realiza la autorización.\n",
            "4. **Retiro de fondos**: si la autorización es exitosa, el banco retira los fondos correspondientes de la cuenta bancaria y los transfiera a la cuenta del vendedor.\n",
            "5. **Recibo del pago**: el vendedor te entrega un recibo que contiene la información del pago, incluyendo el monto y la fecha.\n",
            "\n",
            "**Tipos de transacciones**\n",
            "\n",
            "Puedes utilizar tu tarjeta de débito para realizar diferentes tipos de transacciones, como:\n",
            "\n",
            "1. **Compras en tienda**: puedes usar tu tarjeta de débito para pagar en tiendas, restaurantes y otros establecimientos comerciales.\n",
            "2. **Compras en línea**: puedes utilizar tu tarjeta de débito para pagar compras en línea en sitios web seguros.\n",
            "3. **Pagos de servicios**: puedes pagar servicios como la luz, el agua, la telefonía y otros servicios públicos utilizando tu tarjeta de débito.\n",
            "4. **Retiros de efectivo**: puedes retirar efectivo en cajeros automáticos utilizando tu tarjeta de débito.\n",
            "\n",
            "**Importante**\n",
            "\n",
            "* Aseg\n"
          ]
        },
        {
          "output_type": "display_data",
          "data": {
            "text/plain": [
              "<IPython.core.display.HTML object>"
            ],
            "text/html": [
              "\n",
              "    <div style=\"text-align: center; border: 1px solid #ccc; padding: 10px; border-radius: 10px; display: inline-block;\">\n",
              "        <img src=\"https://api.deepai.org/job-view-file/3850045b-7537-4f94-8aec-354f2d1dee10/outputs/output.jpg\" width=\"300\" />\n",
              "    </div>\n",
              "    "
            ]
          },
          "metadata": {}
        }
      ],
      "source": [
        "import openai\n",
        "import ipywidgets as widgets\n",
        "from IPython.display import display, clear_output, Image, HTML\n",
        "from groq import Groq\n",
        "import requests\n",
        "\n",
        "\n",
        "cliente = Groq(api_key=\"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\") # usando groq actualmente se puede probar con una API tuya\n",
        "\n",
        "# preguntas frecuentes\n",
        "faq = {\n",
        "    \"¿Cómo retirar dinero de un cajero automático?\": \"Para retirar dinero, inserta tu tarjeta, ingresa tu PIN, selecciona 'Retirar dinero' y sigue las instrucciones en pantalla.\",\n",
        "    \"¿Qué hacer si mi tarjeta queda atrapada en el cajero?\": \"Si tu tarjeta queda atrapada, espera un momento para ver si el cajero la devuelve. Si no, contacta al banco inmediatamente.\",\n",
        "    \"¿Los cajeros automáticos cobran comisión?\": \"Algunos cajeros automáticos pueden cobrar una tarifa por transacción, especialmente si no pertenecen a tu banco.\",\n",
        "    \"¿Cómo consultar mi saldo en un cajero automático?\": \"Inserta tu tarjeta, ingresa tu PIN y selecciona 'Consultar saldo' en el menú principal.\",\n",
        "    \"¿Qué hacer si veo un error en la transacción?\": \"Contacta a tu banco inmediatamente para reportar el problema y solicitar asistencia.\",\n",
        "    \"¿Qué hacer si el cajero automático no imprime recibo?\": \"Asegúrate de que el cajero esté funcionando correctamente. Si no imprime el recibo, verifica tu saldo en el extracto de cuenta y contacta a tu banco si es necesario.\",\n",
        "    \"¿Puedo usar cualquier cajero automático con mi tarjeta?\": \"Generalmente, puedes usar cualquier cajero automático, pero algunos pueden cobrar comisiones si no pertenecen a tu banco.\",\n",
        "    \"¿Cómo cambiar mi PIN en un cajero automático?\": \"Inserta tu tarjeta, ingresa tu PIN actual, luego busca la opción de 'Cambio de PIN' y sigue las instrucciones en pantalla.\",\n",
        "    \"¿Qué hacer si el cajero automático me da una cantidad incorrecta?\": \"Reporta el problema al banco de inmediato y proporciona detalles de la transacción. Mantén cualquier recibo si es posible.\",\n",
        "    \"¿Es seguro usar un cajero automático?\": \"Sí, pero asegúrate de que el lugar sea seguro y de cubrir el teclado al ingresar tu PIN. Evita usar cajeros que parezcan sospechosos.\",\n",
        "    \"¿Puedo realizar depósitos en cualquier cajero automático?\": \"Esto depende de tu banco. Algunos cajeros automáticos permiten depósitos, mientras que otros solo permiten retiros.\",\n",
        "    \"¿Cuál es el límite de retiro diario en un cajero automático?\": \"El límite varía según el banco y el tipo de cuenta que tengas. Generalmente oscila entre $300 y $1,000 por día.\",\n",
        "    \"¿Qué hacer si el cajero automático muestra un mensaje de error?\": \"No intentes forzar una transacción. Sal del cajero y vuelve a intentarlo con otro cajero o contacta al banco.\",\n",
        "    \"¿Puedo cancelar una transacción en un cajero automático?\": \"La mayoría de los cajeros automáticos te permiten cancelar la transacción antes de completarla. Busca la opción en la pantalla.\",\n",
        "    \"¿Qué información necesito para usar un cajero automático?\": \"Necesitas tu tarjeta de débito o crédito y tu PIN. Asegúrate de que la tarjeta sea aceptada por el cajero.\"\n",
        "}\n",
        "# manejar el botón de consulta\n",
        "def consultar_api(pregunta):\n",
        "    response = cliente.chat.completions.create(\n",
        "        model=\"llama3-8b-8192\",\n",
        "        temperature=0.7,\n",
        "        max_tokens=500,\n",
        "        messages=[\n",
        "            {\"role\": \"user\", \"content\": pregunta}\n",
        "        ]\n",
        "    )\n",
        "    return response.choices[0].message.content\n",
        "\n",
        "# función para generar una imagen con IA a partir de la pregunta personalizada unicamente sino mostrará por defecto la establecida\n",
        "def generar_imagen_con_ia(pregunta):\n",
        "    prompt = f\"cash machine: {pregunta}\"\n",
        "\n",
        "    response = requests.post(\n",
        "        \"https://api.deepai.org/api/text2img\",\n",
        "        data={'text': prompt},\n",
        "        headers={'api-key': '45f493e1-ea28-4118-a34d-27f1290f2a74'}  # usar tu clave API para generar imagenes yo use Deepai con una clave free\n",
        "    )\n",
        "\n",
        "    return response.json().get('output_url', \"https://www.asba-supervision.org/PEF/images/medios-de-pago/cajero-automatico.jpg\")  # URL por defecto\n",
        "\n",
        "def limpiar(b):\n",
        "    clear_output()\n",
        "    display_interface()\n",
        "\n",
        "# mostrar la interfaz\n",
        "def display_interface():\n",
        "    clear_output()\n",
        "    display(titulo, instrucciones)\n",
        "\n",
        "    # preguntas frecuentes\n",
        "    display(faq_label, faq_selector)\n",
        "\n",
        "    if faq_selector.value == 'Pregunta personalizada':\n",
        "        display(caja_texto)  # cuadro de texto para preguntas personalizadas\n",
        "    else:\n",
        "        caja_texto.value = ''\n",
        "        respuesta_comun = faq[faq_selector.value]\n",
        "        print(\"Respuesta:\", respuesta_comun)\n",
        "\n",
        "        # imagen por defecto para preguntas frecuentes\n",
        "        mostrar_imagen(\"https://www.asba-supervision.org/PEF/images/medios-de-pago/cajero-automatico.jpg\")\n",
        "\n",
        "    display(boton_consultar, boton_limpiar)  # consultar y limpiar\n",
        "\n",
        "# mostrar la imagen centrado\n",
        "def mostrar_imagen(url):\n",
        "    cuadro_centrado = f\"\"\"\n",
        "    <div style=\"text-align: center; border: 1px solid #ccc; padding: 10px; border-radius: 10px; display: inline-block;\">\n",
        "        <img src=\"{url}\" width=\"300\" />\n",
        "    </div>\n",
        "    \"\"\"\n",
        "    display(HTML(cuadro_centrado))\n",
        "\n",
        "# selección de preguntas frecuentes\n",
        "def on_faq_select(change):\n",
        "    clear_output()\n",
        "    display_interface()\n",
        "\n",
        "# títulos e instrucciones\n",
        "titulo = widgets.HTML(\"<h2 style='text-align: center;'>Asistente para Cajeros Automáticos</h2>\")\n",
        "instrucciones = widgets.HTML(\"<p style='text-align: center;'>Seleccione una pregunta común o ingrese su pregunta personalizada.</p>\")\n",
        "faq_label = widgets.HTML(\"<h3 style='text-align: center;'>Preguntas Frecuentes</h3>\")\n",
        "\n",
        "# menú desplegable para preguntas frecuentes\n",
        "options = list(faq.keys()) + ['Pregunta personalizada']\n",
        "faq_selector = widgets.Dropdown(\n",
        "    options=options,\n",
        "    description='Seleccione:',\n",
        "    disabled=False,\n",
        "    layout=widgets.Layout(width='70%')\n",
        ")\n",
        "# preguntas personalizadas\n",
        "caja_texto = widgets.Text(\n",
        "    description='Pregunta:',\n",
        "    placeholder='Escribe tu pregunta aquí...',\n",
        "    layout=widgets.Layout(width='100%')\n",
        ")\n",
        "\n",
        "boton_consultar = widgets.Button(description=\"Consultar\")\n",
        "boton_consultar.on_click(lambda b: procesar_pregunta_personalizada(caja_texto.value))  # procesa la pregunta personalizada\n",
        "\n",
        "boton_limpiar = widgets.Button(description=\"Limpiar\")\n",
        "boton_limpiar.on_click(limpiar)\n",
        "\n",
        "# función para procesar la pregunta personalizada\n",
        "def procesar_pregunta_personalizada(pregunta):\n",
        "    if pregunta.strip():\n",
        "        respuesta = consultar_api(pregunta)  # consultar la API\n",
        "        print(\"Respuesta:\", respuesta)\n",
        "        imagen_generada = generar_imagen_con_ia(pregunta)  # generar imagen para la pregunta personalizada\n",
        "        mostrar_imagen(imagen_generada)\n",
        "    else:\n",
        "        print(\"Por favor, escribe una pregunta en PREGUNTAS PERSONALIZADAS o elige una pregunta por defecto para Orientar tu busqueda en el menu desplegable\")\n",
        "\n",
        "# menú desplegable\n",
        "faq_selector.observe(on_faq_select, names='value')\n",
        "\n",
        "# mostrar la interfaz inicial\n",
        "display_interface()"
      ]
    }
  ]
}